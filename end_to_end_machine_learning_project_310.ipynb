{
  "cells": [
    {
      "cell_type": "markdown",
      "metadata": {},
      "source": [
        "# About this notebook\n",
        "This notebook was taken and changed from O'Reilly book Hands-on Machine Learning with Scikit-Learn, Keras and TensorFlow.\n",
        "\n",
        "The task is to predict median house values in Californian districts, given a number of features from these districts.\n",
        "\n",
        "This notebook contains all the sample code and solutions to the exercices in [chapter 2](https://github.com/ageron/handson-ml2/blob/master/02_end_to_end_machine_learning_project.ipynb)."
      ]
    },
    {
      "cell_type": "markdown",
      "metadata": {
        "id": "YqC7Gc3B9O5k"
      },
      "source": [
        "# Setup"
      ]
    },
    {
      "cell_type": "code",
      "execution_count": 22,
      "metadata": {
        "colab": {
          "base_uri": "https://localhost:8080/"
        },
        "id": "0T8lE-eCZ86l",
        "outputId": "c2c469ae-3df7-4d30-f9cb-a27cb7af4e40"
      },
      "outputs": [
        {
          "name": "stdout",
          "output_type": "stream",
          "text": [
            "Python 3.10.9\n"
          ]
        }
      ],
      "source": [
        "!python --version"
      ]
    },
    {
      "cell_type": "code",
      "execution_count": 23,
      "metadata": {
        "id": "1uSyFRX59KJN"
      },
      "outputs": [],
      "source": [
        "# Python ≥3.5 is required\n",
        "import sys\n",
        "assert sys.version_info >= (3, 5)\n",
        "\n",
        "# Scikit-Learn ≥0.20 is required\n",
        "import sklearn\n",
        "assert sklearn.__version__ >= '0.20'\n",
        "\n",
        "# Common imports\n",
        "import numpy as np\n",
        "import os\n",
        "\n",
        "# To plot pretty figures\n",
        "%matplotlib inline\n",
        "import matplotlib as mpl\n",
        "import matplotlib.pyplot as plt\n",
        "mpl.rc('axes', labelsize=14)\n",
        "mpl.rc('xtick', labelsize=12)\n",
        "mpl.rc('ytick', labelsize=12)\n",
        "\n",
        "# Where to save the figures\n",
        "PROJECT_ROOT_DIR = '.'\n",
        "CHAPTER_ID = 'end_to_end_project'\n",
        "IMAGES_PATH = os.path.join(PROJECT_ROOT_DIR, 'images', CHAPTER_ID)\n",
        "os.makedirs(IMAGES_PATH, exist_ok=True)\n",
        "\n",
        "def save_fig(fig_id, tight_layout=True, fig_extension='png', resolution=300):\n",
        "    path = os.path.join(IMAGES_PATH, fig_id + '.' + fig_extension)\n",
        "    print('Saving figure', fig_id)\n",
        "    if tight_layout:\n",
        "        plt.tight_layout()\n",
        "    plt.savefig(path, format=fig_extension, dpi=resolution)"
      ]
    },
    {
      "cell_type": "markdown",
      "metadata": {
        "id": "pEWxrkTx941x"
      },
      "source": [
        "# Get the data"
      ]
    },
    {
      "cell_type": "code",
      "execution_count": 24,
      "metadata": {
        "id": "tvH-qCekURDy"
      },
      "outputs": [
        {
          "name": "stdout",
          "output_type": "stream",
          "text": [
            "asttokens==2.2.1\n",
            "backcall==0.2.0\n",
            "colorama==0.4.6\n",
            "comm==0.1.3\n",
            "contourpy==1.1.0\n",
            "cycler==0.11.0\n",
            "debugpy==1.6.7\n",
            "decorator==5.1.1\n",
            "executing==1.2.0\n",
            "fonttools==4.41.1\n",
            "ipykernel==6.25.0\n",
            "ipython==8.14.0\n",
            "jedi==0.19.0\n",
            "joblib==1.3.1\n",
            "jupyter_client==8.3.0\n",
            "jupyter_core==5.3.1\n",
            "kiwisolver==1.4.4\n",
            "matplotlib==3.7.2\n",
            "matplotlib-inline==0.1.6\n",
            "nest-asyncio==1.5.7\n",
            "numpy==1.25.1\n",
            "packaging==23.1\n",
            "pandas==2.0.3\n",
            "parso==0.8.3\n",
            "pickleshare==0.7.5\n",
            "Pillow==10.0.0\n",
            "platformdirs==3.10.0\n",
            "prompt-toolkit==3.0.39\n",
            "psutil==5.9.5\n",
            "pure-eval==0.2.2\n",
            "Pygments==2.15.1\n",
            "pyparsing==3.0.9\n",
            "python-dateutil==2.8.2\n",
            "pytz==2023.3\n",
            "pywin32==306\n",
            "pyzmq==25.1.0\n",
            "scikit-learn==1.1.0\n",
            "scipy==1.11.1\n",
            "seaborn==0.12.2\n",
            "six==1.16.0\n",
            "stack-data==0.6.2\n",
            "threadpoolctl==3.2.0\n",
            "tornado==6.3.2\n",
            "traitlets==5.9.0\n",
            "tzdata==2023.3\n",
            "wcwidth==0.2.6\n"
          ]
        }
      ],
      "source": [
        "!pip freeze"
      ]
    },
    {
      "cell_type": "code",
      "execution_count": 25,
      "metadata": {
        "id": "TguzJjaC9nlB"
      },
      "outputs": [],
      "source": [
        "import os\n",
        "import tarfile\n",
        "import urllib.request\n",
        "\n",
        "DOWNLOAD_ROOT = 'https://raw.githubusercontent.com/ageron/handson-ml2/master/'\n",
        "HOUSING_PATH = os.path.join('datasets','housing')\n",
        "HOUSING_URL = DOWNLOAD_ROOT + 'datasets/housing/housing.tgz'\n",
        "\n",
        "def fetch_housing_data(housing_url=HOUSING_URL, housing_path=HOUSING_PATH):\n",
        "  if not os.path.isdir(housing_path):\n",
        "    os.makedirs(housing_path)\n",
        "\n",
        "  tgz_path = os.path.join(housing_path, 'housing.tgz')\n",
        "  urllib.request.urlretrieve(housing_url, tgz_path)\n",
        "  housing_tgz = tarfile.open(tgz_path)\n",
        "  housing_tgz.extractall(path=housing_path)\n",
        "  housing_tgz.close()"
      ]
    },
    {
      "cell_type": "code",
      "execution_count": 26,
      "metadata": {
        "colab": {
          "base_uri": "https://localhost:8080/"
        },
        "id": "1quSmpR2-gqb",
        "outputId": "cac311b7-0f01-4fbf-f675-d24575c4d492"
      },
      "outputs": [],
      "source": [
        "fetch_housing_data()\n",
        "# print('Data downloaded!')"
      ]
    },
    {
      "cell_type": "markdown",
      "metadata": {
        "id": "o6lGP5Z-AusD"
      },
      "source": [
        "# Explore the data"
      ]
    },
    {
      "cell_type": "code",
      "execution_count": 27,
      "metadata": {
        "id": "l7AH1FYT_Fcj"
      },
      "outputs": [],
      "source": [
        "import pandas as pd\n",
        "\n",
        "def load_housing_data(housing_path=HOUSING_PATH):\n",
        "  csv_path = os.path.join(housing_path, 'housing.csv')\n",
        "  return pd.read_csv(csv_path)"
      ]
    },
    {
      "cell_type": "code",
      "execution_count": 28,
      "metadata": {
        "colab": {
          "base_uri": "https://localhost:8080/",
          "height": 270
        },
        "id": "Q52wrssoBA9k",
        "outputId": "1306cd90-edc6-4aa0-cbef-111411ead152"
      },
      "outputs": [
        {
          "data": {
            "text/html": [
              "<div>\n",
              "<style scoped>\n",
              "    .dataframe tbody tr th:only-of-type {\n",
              "        vertical-align: middle;\n",
              "    }\n",
              "\n",
              "    .dataframe tbody tr th {\n",
              "        vertical-align: top;\n",
              "    }\n",
              "\n",
              "    .dataframe thead th {\n",
              "        text-align: right;\n",
              "    }\n",
              "</style>\n",
              "<table border=\"1\" class=\"dataframe\">\n",
              "  <thead>\n",
              "    <tr style=\"text-align: right;\">\n",
              "      <th></th>\n",
              "      <th>longitude</th>\n",
              "      <th>latitude</th>\n",
              "      <th>housing_median_age</th>\n",
              "      <th>total_rooms</th>\n",
              "      <th>total_bedrooms</th>\n",
              "      <th>population</th>\n",
              "      <th>households</th>\n",
              "      <th>median_income</th>\n",
              "      <th>median_house_value</th>\n",
              "      <th>ocean_proximity</th>\n",
              "    </tr>\n",
              "  </thead>\n",
              "  <tbody>\n",
              "    <tr>\n",
              "      <th>0</th>\n",
              "      <td>-122.23</td>\n",
              "      <td>37.88</td>\n",
              "      <td>41.0</td>\n",
              "      <td>880.0</td>\n",
              "      <td>129.0</td>\n",
              "      <td>322.0</td>\n",
              "      <td>126.0</td>\n",
              "      <td>8.3252</td>\n",
              "      <td>452600.0</td>\n",
              "      <td>NEAR BAY</td>\n",
              "    </tr>\n",
              "    <tr>\n",
              "      <th>1</th>\n",
              "      <td>-122.22</td>\n",
              "      <td>37.86</td>\n",
              "      <td>21.0</td>\n",
              "      <td>7099.0</td>\n",
              "      <td>1106.0</td>\n",
              "      <td>2401.0</td>\n",
              "      <td>1138.0</td>\n",
              "      <td>8.3014</td>\n",
              "      <td>358500.0</td>\n",
              "      <td>NEAR BAY</td>\n",
              "    </tr>\n",
              "    <tr>\n",
              "      <th>2</th>\n",
              "      <td>-122.24</td>\n",
              "      <td>37.85</td>\n",
              "      <td>52.0</td>\n",
              "      <td>1467.0</td>\n",
              "      <td>190.0</td>\n",
              "      <td>496.0</td>\n",
              "      <td>177.0</td>\n",
              "      <td>7.2574</td>\n",
              "      <td>352100.0</td>\n",
              "      <td>NEAR BAY</td>\n",
              "    </tr>\n",
              "    <tr>\n",
              "      <th>3</th>\n",
              "      <td>-122.25</td>\n",
              "      <td>37.85</td>\n",
              "      <td>52.0</td>\n",
              "      <td>1274.0</td>\n",
              "      <td>235.0</td>\n",
              "      <td>558.0</td>\n",
              "      <td>219.0</td>\n",
              "      <td>5.6431</td>\n",
              "      <td>341300.0</td>\n",
              "      <td>NEAR BAY</td>\n",
              "    </tr>\n",
              "    <tr>\n",
              "      <th>4</th>\n",
              "      <td>-122.25</td>\n",
              "      <td>37.85</td>\n",
              "      <td>52.0</td>\n",
              "      <td>1627.0</td>\n",
              "      <td>280.0</td>\n",
              "      <td>565.0</td>\n",
              "      <td>259.0</td>\n",
              "      <td>3.8462</td>\n",
              "      <td>342200.0</td>\n",
              "      <td>NEAR BAY</td>\n",
              "    </tr>\n",
              "  </tbody>\n",
              "</table>\n",
              "</div>"
            ],
            "text/plain": [
              "   longitude  latitude  housing_median_age  total_rooms  total_bedrooms  \\\n",
              "0    -122.23     37.88                41.0        880.0           129.0   \n",
              "1    -122.22     37.86                21.0       7099.0          1106.0   \n",
              "2    -122.24     37.85                52.0       1467.0           190.0   \n",
              "3    -122.25     37.85                52.0       1274.0           235.0   \n",
              "4    -122.25     37.85                52.0       1627.0           280.0   \n",
              "\n",
              "   population  households  median_income  median_house_value ocean_proximity  \n",
              "0       322.0       126.0         8.3252            452600.0        NEAR BAY  \n",
              "1      2401.0      1138.0         8.3014            358500.0        NEAR BAY  \n",
              "2       496.0       177.0         7.2574            352100.0        NEAR BAY  \n",
              "3       558.0       219.0         5.6431            341300.0        NEAR BAY  \n",
              "4       565.0       259.0         3.8462            342200.0        NEAR BAY  "
            ]
          },
          "execution_count": 28,
          "metadata": {},
          "output_type": "execute_result"
        }
      ],
      "source": [
        "housing = load_housing_data()\n",
        "housing.head()"
      ]
    },
    {
      "cell_type": "code",
      "execution_count": 29,
      "metadata": {
        "colab": {
          "base_uri": "https://localhost:8080/"
        },
        "id": "_aNzSdMiBFdh",
        "outputId": "5632cb5e-874c-4414-a082-390c69e5efc4"
      },
      "outputs": [
        {
          "name": "stdout",
          "output_type": "stream",
          "text": [
            "<class 'pandas.core.frame.DataFrame'>\n",
            "RangeIndex: 20640 entries, 0 to 20639\n",
            "Data columns (total 10 columns):\n",
            " #   Column              Non-Null Count  Dtype  \n",
            "---  ------              --------------  -----  \n",
            " 0   longitude           20640 non-null  float64\n",
            " 1   latitude            20640 non-null  float64\n",
            " 2   housing_median_age  20640 non-null  float64\n",
            " 3   total_rooms         20640 non-null  float64\n",
            " 4   total_bedrooms      20433 non-null  float64\n",
            " 5   population          20640 non-null  float64\n",
            " 6   households          20640 non-null  float64\n",
            " 7   median_income       20640 non-null  float64\n",
            " 8   median_house_value  20640 non-null  float64\n",
            " 9   ocean_proximity     20640 non-null  object \n",
            "dtypes: float64(9), object(1)\n",
            "memory usage: 1.6+ MB\n"
          ]
        }
      ],
      "source": [
        "housing.info()"
      ]
    },
    {
      "cell_type": "code",
      "execution_count": 30,
      "metadata": {
        "colab": {
          "base_uri": "https://localhost:8080/"
        },
        "id": "J3xQTDa2BMFi",
        "outputId": "0f6f7868-7ff8-4c97-be39-7d5a7bda1817"
      },
      "outputs": [
        {
          "data": {
            "text/plain": [
              "<1H OCEAN     9136\n",
              "INLAND        6551\n",
              "NEAR OCEAN    2658\n",
              "NEAR BAY      2290\n",
              "ISLAND           5\n",
              "Name: ocean_proximity, dtype: int64"
            ]
          },
          "execution_count": 30,
          "metadata": {},
          "output_type": "execute_result"
        }
      ],
      "source": [
        "housing['ocean_proximity'].value_counts()"
      ]
    },
    {
      "cell_type": "code",
      "execution_count": 31,
      "metadata": {
        "colab": {
          "base_uri": "https://localhost:8080/",
          "height": 364
        },
        "id": "lxXwtQwmBXti",
        "outputId": "38fc9e3f-1376-4152-df46-dfb8ca7d1c54"
      },
      "outputs": [
        {
          "data": {
            "text/html": [
              "<div>\n",
              "<style scoped>\n",
              "    .dataframe tbody tr th:only-of-type {\n",
              "        vertical-align: middle;\n",
              "    }\n",
              "\n",
              "    .dataframe tbody tr th {\n",
              "        vertical-align: top;\n",
              "    }\n",
              "\n",
              "    .dataframe thead th {\n",
              "        text-align: right;\n",
              "    }\n",
              "</style>\n",
              "<table border=\"1\" class=\"dataframe\">\n",
              "  <thead>\n",
              "    <tr style=\"text-align: right;\">\n",
              "      <th></th>\n",
              "      <th>longitude</th>\n",
              "      <th>latitude</th>\n",
              "      <th>housing_median_age</th>\n",
              "      <th>total_rooms</th>\n",
              "      <th>total_bedrooms</th>\n",
              "      <th>population</th>\n",
              "      <th>households</th>\n",
              "      <th>median_income</th>\n",
              "      <th>median_house_value</th>\n",
              "    </tr>\n",
              "  </thead>\n",
              "  <tbody>\n",
              "    <tr>\n",
              "      <th>count</th>\n",
              "      <td>20640.000000</td>\n",
              "      <td>20640.000000</td>\n",
              "      <td>20640.000000</td>\n",
              "      <td>20640.000000</td>\n",
              "      <td>20433.000000</td>\n",
              "      <td>20640.000000</td>\n",
              "      <td>20640.000000</td>\n",
              "      <td>20640.000000</td>\n",
              "      <td>20640.000000</td>\n",
              "    </tr>\n",
              "    <tr>\n",
              "      <th>mean</th>\n",
              "      <td>-119.569704</td>\n",
              "      <td>35.631861</td>\n",
              "      <td>28.639486</td>\n",
              "      <td>2635.763081</td>\n",
              "      <td>537.870553</td>\n",
              "      <td>1425.476744</td>\n",
              "      <td>499.539680</td>\n",
              "      <td>3.870671</td>\n",
              "      <td>206855.816909</td>\n",
              "    </tr>\n",
              "    <tr>\n",
              "      <th>std</th>\n",
              "      <td>2.003532</td>\n",
              "      <td>2.135952</td>\n",
              "      <td>12.585558</td>\n",
              "      <td>2181.615252</td>\n",
              "      <td>421.385070</td>\n",
              "      <td>1132.462122</td>\n",
              "      <td>382.329753</td>\n",
              "      <td>1.899822</td>\n",
              "      <td>115395.615874</td>\n",
              "    </tr>\n",
              "    <tr>\n",
              "      <th>min</th>\n",
              "      <td>-124.350000</td>\n",
              "      <td>32.540000</td>\n",
              "      <td>1.000000</td>\n",
              "      <td>2.000000</td>\n",
              "      <td>1.000000</td>\n",
              "      <td>3.000000</td>\n",
              "      <td>1.000000</td>\n",
              "      <td>0.499900</td>\n",
              "      <td>14999.000000</td>\n",
              "    </tr>\n",
              "    <tr>\n",
              "      <th>25%</th>\n",
              "      <td>-121.800000</td>\n",
              "      <td>33.930000</td>\n",
              "      <td>18.000000</td>\n",
              "      <td>1447.750000</td>\n",
              "      <td>296.000000</td>\n",
              "      <td>787.000000</td>\n",
              "      <td>280.000000</td>\n",
              "      <td>2.563400</td>\n",
              "      <td>119600.000000</td>\n",
              "    </tr>\n",
              "    <tr>\n",
              "      <th>50%</th>\n",
              "      <td>-118.490000</td>\n",
              "      <td>34.260000</td>\n",
              "      <td>29.000000</td>\n",
              "      <td>2127.000000</td>\n",
              "      <td>435.000000</td>\n",
              "      <td>1166.000000</td>\n",
              "      <td>409.000000</td>\n",
              "      <td>3.534800</td>\n",
              "      <td>179700.000000</td>\n",
              "    </tr>\n",
              "    <tr>\n",
              "      <th>75%</th>\n",
              "      <td>-118.010000</td>\n",
              "      <td>37.710000</td>\n",
              "      <td>37.000000</td>\n",
              "      <td>3148.000000</td>\n",
              "      <td>647.000000</td>\n",
              "      <td>1725.000000</td>\n",
              "      <td>605.000000</td>\n",
              "      <td>4.743250</td>\n",
              "      <td>264725.000000</td>\n",
              "    </tr>\n",
              "    <tr>\n",
              "      <th>max</th>\n",
              "      <td>-114.310000</td>\n",
              "      <td>41.950000</td>\n",
              "      <td>52.000000</td>\n",
              "      <td>39320.000000</td>\n",
              "      <td>6445.000000</td>\n",
              "      <td>35682.000000</td>\n",
              "      <td>6082.000000</td>\n",
              "      <td>15.000100</td>\n",
              "      <td>500001.000000</td>\n",
              "    </tr>\n",
              "  </tbody>\n",
              "</table>\n",
              "</div>"
            ],
            "text/plain": [
              "          longitude      latitude  housing_median_age   total_rooms  \\\n",
              "count  20640.000000  20640.000000        20640.000000  20640.000000   \n",
              "mean    -119.569704     35.631861           28.639486   2635.763081   \n",
              "std        2.003532      2.135952           12.585558   2181.615252   \n",
              "min     -124.350000     32.540000            1.000000      2.000000   \n",
              "25%     -121.800000     33.930000           18.000000   1447.750000   \n",
              "50%     -118.490000     34.260000           29.000000   2127.000000   \n",
              "75%     -118.010000     37.710000           37.000000   3148.000000   \n",
              "max     -114.310000     41.950000           52.000000  39320.000000   \n",
              "\n",
              "       total_bedrooms    population    households  median_income  \\\n",
              "count    20433.000000  20640.000000  20640.000000   20640.000000   \n",
              "mean       537.870553   1425.476744    499.539680       3.870671   \n",
              "std        421.385070   1132.462122    382.329753       1.899822   \n",
              "min          1.000000      3.000000      1.000000       0.499900   \n",
              "25%        296.000000    787.000000    280.000000       2.563400   \n",
              "50%        435.000000   1166.000000    409.000000       3.534800   \n",
              "75%        647.000000   1725.000000    605.000000       4.743250   \n",
              "max       6445.000000  35682.000000   6082.000000      15.000100   \n",
              "\n",
              "       median_house_value  \n",
              "count        20640.000000  \n",
              "mean        206855.816909  \n",
              "std         115395.615874  \n",
              "min          14999.000000  \n",
              "25%         119600.000000  \n",
              "50%         179700.000000  \n",
              "75%         264725.000000  \n",
              "max         500001.000000  "
            ]
          },
          "execution_count": 31,
          "metadata": {},
          "output_type": "execute_result"
        }
      ],
      "source": [
        "housing.describe()"
      ]
    },
    {
      "cell_type": "markdown",
      "metadata": {
        "id": "rm7ctPMBHLoR"
      },
      "source": [
        "* 25% of the districts have a housing_median_age lower than 18\n",
        "* 50% are lower than 29\n",
        "* 75% are lower than 37"
      ]
    },
    {
      "cell_type": "code",
      "execution_count": 32,
      "metadata": {
        "colab": {
          "base_uri": "https://localhost:8080/",
          "height": 507
        },
        "id": "l41QU1sIBc4p",
        "outputId": "77121ace-be3b-4b77-e29a-14d9053c54db"
      },
      "outputs": [
        {
          "name": "stdout",
          "output_type": "stream",
          "text": [
            "Unexpected exception formatting exception. Falling back to standard exception\n"
          ]
        },
        {
          "name": "stderr",
          "output_type": "stream",
          "text": [
            "Traceback (most recent call last):\n",
            "  File \"c:\\Users\\usuario\\Documents\\GitHub\\activity_session3\\venv310\\lib\\site-packages\\IPython\\core\\interactiveshell.py\", line 3508, in run_code\n",
            "    exec(code_obj, self.user_global_ns, self.user_ns)\n",
            "  File \"C:\\Users\\usuario\\AppData\\Local\\Temp\\ipykernel_6052\\2283861711.py\", line 4, in <module>\n",
            "    housing.hist(bins=50, figsize=(20,15))\n",
            "  File \"c:\\Users\\usuario\\Documents\\GitHub\\activity_session3\\venv310\\lib\\site-packages\\pandas\\plotting\\_core.py\", line 225, in hist_frame\n",
            "    column=column,\n",
            "  File \"c:\\Users\\usuario\\Documents\\GitHub\\activity_session3\\venv310\\lib\\site-packages\\pandas\\plotting\\_core.py\", line 1849, in _get_plot_backend\n",
            "  File \"c:\\Users\\usuario\\Documents\\GitHub\\activity_session3\\venv310\\lib\\site-packages\\pandas\\plotting\\_core.py\", line 1787, in _load_backend\n",
            "ImportError: matplotlib is required for plotting when the default backend \"matplotlib\" is selected.\n",
            "\n",
            "During handling of the above exception, another exception occurred:\n",
            "\n",
            "Traceback (most recent call last):\n",
            "  File \"c:\\Users\\usuario\\Documents\\GitHub\\activity_session3\\venv310\\lib\\site-packages\\IPython\\core\\interactiveshell.py\", line 2105, in showtraceback\n",
            "    stb = self.InteractiveTB.structured_traceback(\n",
            "  File \"c:\\Users\\usuario\\Documents\\GitHub\\activity_session3\\venv310\\lib\\site-packages\\IPython\\core\\ultratb.py\", line 1428, in structured_traceback\n",
            "    return FormattedTB.structured_traceback(\n",
            "  File \"c:\\Users\\usuario\\Documents\\GitHub\\activity_session3\\venv310\\lib\\site-packages\\IPython\\core\\ultratb.py\", line 1319, in structured_traceback\n",
            "    return VerboseTB.structured_traceback(\n",
            "  File \"c:\\Users\\usuario\\Documents\\GitHub\\activity_session3\\venv310\\lib\\site-packages\\IPython\\core\\ultratb.py\", line 1172, in structured_traceback\n",
            "    formatted_exception = self.format_exception_as_a_whole(etype, evalue, etb, number_of_lines_of_context,\n",
            "  File \"c:\\Users\\usuario\\Documents\\GitHub\\activity_session3\\venv310\\lib\\site-packages\\IPython\\core\\ultratb.py\", line 1087, in format_exception_as_a_whole\n",
            "    frames.append(self.format_record(record))\n",
            "  File \"c:\\Users\\usuario\\Documents\\GitHub\\activity_session3\\venv310\\lib\\site-packages\\IPython\\core\\ultratb.py\", line 969, in format_record\n",
            "    frame_info.lines, Colors, self.has_colors, lvals\n",
            "  File \"c:\\Users\\usuario\\Documents\\GitHub\\activity_session3\\venv310\\lib\\site-packages\\IPython\\core\\ultratb.py\", line 792, in lines\n",
            "    return self._sd.lines\n",
            "  File \"c:\\Users\\usuario\\Documents\\GitHub\\activity_session3\\venv310\\lib\\site-packages\\stack_data\\utils.py\", line 144, in cached_property_wrapper\n",
            "    value = obj.__dict__[self.func.__name__] = self.func(obj)\n",
            "  File \"c:\\Users\\usuario\\Documents\\GitHub\\activity_session3\\venv310\\lib\\site-packages\\stack_data\\core.py\", line 734, in lines\n",
            "    pieces = self.included_pieces\n",
            "  File \"c:\\Users\\usuario\\Documents\\GitHub\\activity_session3\\venv310\\lib\\site-packages\\stack_data\\utils.py\", line 144, in cached_property_wrapper\n",
            "    value = obj.__dict__[self.func.__name__] = self.func(obj)\n",
            "  File \"c:\\Users\\usuario\\Documents\\GitHub\\activity_session3\\venv310\\lib\\site-packages\\stack_data\\core.py\", line 681, in included_pieces\n",
            "    pos = scope_pieces.index(self.executing_piece)\n",
            "  File \"c:\\Users\\usuario\\Documents\\GitHub\\activity_session3\\venv310\\lib\\site-packages\\stack_data\\utils.py\", line 144, in cached_property_wrapper\n",
            "    value = obj.__dict__[self.func.__name__] = self.func(obj)\n",
            "  File \"c:\\Users\\usuario\\Documents\\GitHub\\activity_session3\\venv310\\lib\\site-packages\\stack_data\\core.py\", line 660, in executing_piece\n",
            "    return only(\n",
            "  File \"c:\\Users\\usuario\\Documents\\GitHub\\activity_session3\\venv310\\lib\\site-packages\\executing\\executing.py\", line 190, in only\n",
            "    raise NotOneValueFound('Expected one value, found 0')\n",
            "executing.executing.NotOneValueFound: Expected one value, found 0\n"
          ]
        }
      ],
      "source": [
        "# Showing the number of instances (on the vertical axis) that have a given value range (on the horizontal axis)\n",
        "%matplotlib inline\n",
        "import matplotlib.pyplot as plt\n",
        "housing.hist(bins=50, figsize=(20,15))\n",
        "save_fig('attribute_histogram_plots')\n",
        "plt.show()"
      ]
    },
    {
      "cell_type": "markdown",
      "metadata": {
        "id": "ZziyoVtRIUyn"
      },
      "source": [
        "Few things to notice in the above histograms:\n",
        "\n",
        "1.   First, the median income attribute does not look like it is expressed in US dollars (USD), but the numbers represent roughly tens of thousands of dollars (e.g., 3 actually means about \\$30,000).\n",
        "\n",
        "2.   The housing meadian age and the median house value were also capped. This may be a serious problem since it is the target attribute (the labels). The ML algorithm may learn that prices never go beyond that limit. If required precise predictions even beyond \\$500,000, the options are:\n",
        "    \n",
        "    a. Collect proper labels for the districts whose labels were capped.\n",
        "    \n",
        "    b. Remove those districts from the training and test set.\n",
        "\n",
        "3.   These attributes have very different scales, is neccesary to apply feature scaling.\n",
        "\n",
        "4.   Many histograms are tail-heavy: they extend much farther to the right of the median than to the left. This may make it a bit harder for some Machine Learning algorithms to detect patterns. Future transformations to these attributes have to be done in order to have more bell-shaped distributions."
      ]
    },
    {
      "cell_type": "markdown",
      "metadata": {
        "id": "pPFELQLLC_F7"
      },
      "source": [
        "Visualizing the data to have a better overview of how it is distributed with a kernel density estimate (KDE) plot, which is a method for visualizing the distribution of observations in a dataset."
      ]
    },
    {
      "cell_type": "code",
      "execution_count": 33,
      "metadata": {
        "colab": {
          "base_uri": "https://localhost:8080/",
          "height": 134
        },
        "id": "5Efs0pMcB38k",
        "outputId": "f115dbba-38a9-46c8-b08b-0ca601d3b4b6"
      },
      "outputs": [
        {
          "name": "stderr",
          "output_type": "stream",
          "text": [
            "C:\\Users\\usuario\\AppData\\Local\\Temp\\ipykernel_6052\\1216111455.py:11: UserWarning: The figure layout has changed to tight\n",
            "  plt.tight_layout(pad=2.0)\n",
            "C:\\Users\\usuario\\AppData\\Local\\Temp\\ipykernel_6052\\1216111455.py:11: UserWarning: The figure layout has changed to tight\n",
            "  plt.tight_layout(pad=2.0)\n",
            "C:\\Users\\usuario\\AppData\\Local\\Temp\\ipykernel_6052\\1216111455.py:11: UserWarning: The figure layout has changed to tight\n",
            "  plt.tight_layout(pad=2.0)\n",
            "C:\\Users\\usuario\\AppData\\Local\\Temp\\ipykernel_6052\\1216111455.py:11: UserWarning: The figure layout has changed to tight\n",
            "  plt.tight_layout(pad=2.0)\n",
            "C:\\Users\\usuario\\AppData\\Local\\Temp\\ipykernel_6052\\1216111455.py:11: UserWarning: The figure layout has changed to tight\n",
            "  plt.tight_layout(pad=2.0)\n",
            "C:\\Users\\usuario\\AppData\\Local\\Temp\\ipykernel_6052\\1216111455.py:11: UserWarning: The figure layout has changed to tight\n",
            "  plt.tight_layout(pad=2.0)\n",
            "C:\\Users\\usuario\\AppData\\Local\\Temp\\ipykernel_6052\\1216111455.py:11: UserWarning: The figure layout has changed to tight\n",
            "  plt.tight_layout(pad=2.0)\n",
            "C:\\Users\\usuario\\AppData\\Local\\Temp\\ipykernel_6052\\1216111455.py:11: UserWarning: The figure layout has changed to tight\n",
            "  plt.tight_layout(pad=2.0)\n"
          ]
        },
        {
          "data": {
            "image/png": "[encoded data removed]",
            "text/plain": [
              "<Figure size 3000x4000 with 9 Axes>"
            ]
          },
          "metadata": {},
          "output_type": "display_data"
        }
      ],
      "source": [
        "import seaborn as sns\n",
        "import warnings\n",
        "warnings.simplefilter(action='ignore', category=FutureWarning)\n",
        "\n",
        "plt.figure(figsize=(30,40))\n",
        "for i, col in enumerate(housing.columns):\n",
        "    if housing[col].dtype != 'object':\n",
        "        ax = plt.subplot(21, 3, i+1)\n",
        "        sns.kdeplot(housing[col], ax=ax)\n",
        "        plt.xlabel(col, fontsize=10)\n",
        "        plt.tight_layout(pad=2.0)\n",
        "\n",
        "plt.show()"
      ]
    },
    {
      "cell_type": "markdown",
      "metadata": {
        "id": "dvUh9H0EDJAw"
      },
      "source": [
        "Then, in order to have a better view of quartiles of the dataset, and the outliers, let's plot some boxes."
      ]
    },
    {
      "cell_type": "code",
      "execution_count": 34,
      "metadata": {
        "colab": {
          "base_uri": "https://localhost:8080/",
          "height": 217
        },
        "id": "l-NROkNiCx28",
        "outputId": "15df064a-9d6a-4c56-aa2a-5659cca40c06"
      },
      "outputs": [
        {
          "name": "stderr",
          "output_type": "stream",
          "text": [
            "C:\\Users\\usuario\\AppData\\Local\\Temp\\ipykernel_6052\\2610424296.py:7: UserWarning: The figure layout has changed to tight\n",
            "  plt.tight_layout(pad=2.0)\n",
            "C:\\Users\\usuario\\AppData\\Local\\Temp\\ipykernel_6052\\2610424296.py:7: UserWarning: The figure layout has changed to tight\n",
            "  plt.tight_layout(pad=2.0)\n",
            "C:\\Users\\usuario\\AppData\\Local\\Temp\\ipykernel_6052\\2610424296.py:7: UserWarning: The figure layout has changed to tight\n",
            "  plt.tight_layout(pad=2.0)\n",
            "C:\\Users\\usuario\\AppData\\Local\\Temp\\ipykernel_6052\\2610424296.py:7: UserWarning: The figure layout has changed to tight\n",
            "  plt.tight_layout(pad=2.0)\n",
            "C:\\Users\\usuario\\AppData\\Local\\Temp\\ipykernel_6052\\2610424296.py:7: UserWarning: The figure layout has changed to tight\n",
            "  plt.tight_layout(pad=2.0)\n",
            "C:\\Users\\usuario\\AppData\\Local\\Temp\\ipykernel_6052\\2610424296.py:7: UserWarning: The figure layout has changed to tight\n",
            "  plt.tight_layout(pad=2.0)\n",
            "C:\\Users\\usuario\\AppData\\Local\\Temp\\ipykernel_6052\\2610424296.py:7: UserWarning: The figure layout has changed to tight\n",
            "  plt.tight_layout(pad=2.0)\n",
            "C:\\Users\\usuario\\AppData\\Local\\Temp\\ipykernel_6052\\2610424296.py:7: UserWarning: The figure layout has changed to tight\n",
            "  plt.tight_layout(pad=2.0)\n"
          ]
        },
        {
          "data": {
            "image/png": "[encoded data removed]",
            "text/plain": [
              "<Figure size 2000x6000 with 9 Axes>"
            ]
          },
          "metadata": {},
          "output_type": "display_data"
        }
      ],
      "source": [
        "plt.figure(figsize=(20,60))\n",
        "for i, col in enumerate(housing.columns):\n",
        "    if housing[col].dtype != 'object':\n",
        "        ax = plt.subplot(21, 2, i+1)\n",
        "        sns.boxplot(housing[col], ax=ax)\n",
        "        plt.xlabel(col, fontsize=10)\n",
        "        plt.tight_layout(pad=2.0)\n",
        "\n",
        "plt.show()"
      ]
    },
    {
      "cell_type": "code",
      "execution_count": 35,
      "metadata": {
        "id": "CFv5_igEDRmT"
      },
      "outputs": [],
      "source": [
        "# to make this notebook's output identical at every run\n",
        "np.random.seed(42)"
      ]
    },
    {
      "cell_type": "code",
      "execution_count": 36,
      "metadata": {
        "id": "RJYYozPQDk-L"
      },
      "outputs": [],
      "source": [
        "import numpy as np\n",
        "\n",
        "# For illustration only. Sklearn has train_test_split() [Implementation from scratch]\n",
        "def split_train_test(data, test_ratio):\n",
        "    shuffled_indices = np.random.permutation(len(data))\n",
        "    test_set_size = int(len(data) * test_ratio)\n",
        "    test_indices = shuffled_indices[:test_set_size]\n",
        "    train_indices = shuffled_indices[test_set_size:]\n",
        "    return data.iloc[train_indices], data.iloc[test_indices]"
      ]
    },
    {
      "cell_type": "code",
      "execution_count": 37,
      "metadata": {
        "colab": {
          "base_uri": "https://localhost:8080/"
        },
        "id": "1eWil7kFDpJs",
        "outputId": "87a7f184-70f2-4632-ddf5-ee8f86ba7cdc"
      },
      "outputs": [
        {
          "data": {
            "text/plain": [
              "16512"
            ]
          },
          "execution_count": 37,
          "metadata": {},
          "output_type": "execute_result"
        }
      ],
      "source": [
        "train_set, test_set = split_train_test(housing, 0.2)\n",
        "len(train_set)"
      ]
    },
    {
      "cell_type": "code",
      "execution_count": 38,
      "metadata": {
        "colab": {
          "base_uri": "https://localhost:8080/"
        },
        "id": "q01EQYk_DqXj",
        "outputId": "01d26739-ab25-46a5-c182-654e49bcb27a"
      },
      "outputs": [
        {
          "data": {
            "text/plain": [
              "4128"
            ]
          },
          "execution_count": 38,
          "metadata": {},
          "output_type": "execute_result"
        }
      ],
      "source": [
        "len(test_set)"
      ]
    },
    {
      "cell_type": "markdown",
      "metadata": {
        "id": "SmZwWnKKOFEc"
      },
      "source": [
        "To ensure that the test set will remain consistent across multiple runs, even if the data is refreshed. The new test set will contain 20% of the new instances, but it will not contain any instance that was previously in the training set."
      ]
    },
    {
      "cell_type": "code",
      "execution_count": 39,
      "metadata": {
        "id": "fuR-eVdmDsDG"
      },
      "outputs": [],
      "source": [
        "from zlib import crc32\n",
        "\n",
        "def test_set_check(identifier, test_ratio):\n",
        "    return crc32(np.int64(identifier)) & 0xffffffff < test_ratio * 2**32\n",
        "\n",
        "def split_train_test_by_id(data, test_ratio, id_column):\n",
        "    ids = data[id_column]\n",
        "    in_test_set = ids.apply(lambda id_: test_set_check(id_, test_ratio))\n",
        "    return data.loc[~in_test_set], data.loc[in_test_set]"
      ]
    },
    {
      "cell_type": "code",
      "execution_count": 40,
      "metadata": {
        "id": "tGPw-1fqDz6e"
      },
      "outputs": [],
      "source": [
        "import hashlib\n",
        "\n",
        "def test_set_check(identifier, test_ratio, hash=hashlib.md5):\n",
        "    return hash(np.int64(identifier)).digest()[-1] < 256 * test_ratio"
      ]
    },
    {
      "cell_type": "markdown",
      "metadata": {
        "id": "mYdBBnhMD-vI"
      },
      "source": [
        "If you want an implementation that supports any hash function and is compatible with both Python 2 and Python 3, here is one:"
      ]
    },
    {
      "cell_type": "code",
      "execution_count": 41,
      "metadata": {
        "id": "663zCMNtD7kK"
      },
      "outputs": [],
      "source": [
        "def test_set_check(identifier, test_ratio, hash=hashlib.md5):\n",
        "    return bytearray(hash(np.int64(identifier)).digest())[-1] < 256 * test_ratio"
      ]
    },
    {
      "cell_type": "code",
      "execution_count": 42,
      "metadata": {
        "id": "wihlHDFPEBh7"
      },
      "outputs": [],
      "source": [
        "housing_with_id = housing.reset_index()   # adds an `index` column\n",
        "train_set, test_set = split_train_test_by_id(housing_with_id, 0.2, 'index')"
      ]
    },
    {
      "cell_type": "markdown",
      "metadata": {
        "id": "5jXUpvqjOe0t"
      },
      "source": [
        "Since the housing dataset does not have an identifier column, the simplest solution is to use index as the ID.\n",
        "\n",
        "If the row index is used as a unique identifier, it's neccesary to make sured that new data gets appended to the end of the dataset and that no row ever gets deleted.\n",
        "\n",
        "If that's not possible, then it can be tried to buils a unique identifier. For example, a district's latitude and longitude are guareanteed to be stable for a few million years."
      ]
    },
    {
      "cell_type": "code",
      "execution_count": 43,
      "metadata": {
        "id": "EID1UPukEGZL"
      },
      "outputs": [],
      "source": [
        "housing_with_id['id'] = housing['longitude'] * 1000 + housing['latitude']"
      ]
    },
    {
      "cell_type": "code",
      "execution_count": 44,
      "metadata": {
        "id": "w2oqwyxaQUfC"
      },
      "outputs": [],
      "source": [
        "train_set, test_set = split_train_test_by_id(housing_with_id, 0.2, 'id')"
      ]
    },
    {
      "cell_type": "code",
      "execution_count": 45,
      "metadata": {
        "colab": {
          "base_uri": "https://localhost:8080/",
          "height": 270
        },
        "id": "rWmNR1MhEM7D",
        "outputId": "55b1a6f4-93fb-416e-91a7-1ff75cc07dc5"
      },
      "outputs": [
        {
          "data": {
            "text/html": [
              "<div>\n",
              "<style scoped>\n",
              "    .dataframe tbody tr th:only-of-type {\n",
              "        vertical-align: middle;\n",
              "    }\n",
              "\n",
              "    .dataframe tbody tr th {\n",
              "        vertical-align: top;\n",
              "    }\n",
              "\n",
              "    .dataframe thead th {\n",
              "        text-align: right;\n",
              "    }\n",
              "</style>\n",
              "<table border=\"1\" class=\"dataframe\">\n",
              "  <thead>\n",
              "    <tr style=\"text-align: right;\">\n",
              "      <th></th>\n",
              "      <th>index</th>\n",
              "      <th>longitude</th>\n",
              "      <th>latitude</th>\n",
              "      <th>housing_median_age</th>\n",
              "      <th>total_rooms</th>\n",
              "      <th>total_bedrooms</th>\n",
              "      <th>population</th>\n",
              "      <th>households</th>\n",
              "      <th>median_income</th>\n",
              "      <th>median_house_value</th>\n",
              "      <th>ocean_proximity</th>\n",
              "      <th>id</th>\n",
              "    </tr>\n",
              "  </thead>\n",
              "  <tbody>\n",
              "    <tr>\n",
              "      <th>8</th>\n",
              "      <td>8</td>\n",
              "      <td>-122.26</td>\n",
              "      <td>37.84</td>\n",
              "      <td>42.0</td>\n",
              "      <td>2555.0</td>\n",
              "      <td>665.0</td>\n",
              "      <td>1206.0</td>\n",
              "      <td>595.0</td>\n",
              "      <td>2.0804</td>\n",
              "      <td>226700.0</td>\n",
              "      <td>NEAR BAY</td>\n",
              "      <td>-122222.16</td>\n",
              "    </tr>\n",
              "    <tr>\n",
              "      <th>10</th>\n",
              "      <td>10</td>\n",
              "      <td>-122.26</td>\n",
              "      <td>37.85</td>\n",
              "      <td>52.0</td>\n",
              "      <td>2202.0</td>\n",
              "      <td>434.0</td>\n",
              "      <td>910.0</td>\n",
              "      <td>402.0</td>\n",
              "      <td>3.2031</td>\n",
              "      <td>281500.0</td>\n",
              "      <td>NEAR BAY</td>\n",
              "      <td>-122222.15</td>\n",
              "    </tr>\n",
              "    <tr>\n",
              "      <th>11</th>\n",
              "      <td>11</td>\n",
              "      <td>-122.26</td>\n",
              "      <td>37.85</td>\n",
              "      <td>52.0</td>\n",
              "      <td>3503.0</td>\n",
              "      <td>752.0</td>\n",
              "      <td>1504.0</td>\n",
              "      <td>734.0</td>\n",
              "      <td>3.2705</td>\n",
              "      <td>241800.0</td>\n",
              "      <td>NEAR BAY</td>\n",
              "      <td>-122222.15</td>\n",
              "    </tr>\n",
              "    <tr>\n",
              "      <th>12</th>\n",
              "      <td>12</td>\n",
              "      <td>-122.26</td>\n",
              "      <td>37.85</td>\n",
              "      <td>52.0</td>\n",
              "      <td>2491.0</td>\n",
              "      <td>474.0</td>\n",
              "      <td>1098.0</td>\n",
              "      <td>468.0</td>\n",
              "      <td>3.0750</td>\n",
              "      <td>213500.0</td>\n",
              "      <td>NEAR BAY</td>\n",
              "      <td>-122222.15</td>\n",
              "    </tr>\n",
              "    <tr>\n",
              "      <th>13</th>\n",
              "      <td>13</td>\n",
              "      <td>-122.26</td>\n",
              "      <td>37.84</td>\n",
              "      <td>52.0</td>\n",
              "      <td>696.0</td>\n",
              "      <td>191.0</td>\n",
              "      <td>345.0</td>\n",
              "      <td>174.0</td>\n",
              "      <td>2.6736</td>\n",
              "      <td>191300.0</td>\n",
              "      <td>NEAR BAY</td>\n",
              "      <td>-122222.16</td>\n",
              "    </tr>\n",
              "  </tbody>\n",
              "</table>\n",
              "</div>"
            ],
            "text/plain": [
              "    index  longitude  latitude  housing_median_age  total_rooms  \\\n",
              "8       8    -122.26     37.84                42.0       2555.0   \n",
              "10     10    -122.26     37.85                52.0       2202.0   \n",
              "11     11    -122.26     37.85                52.0       3503.0   \n",
              "12     12    -122.26     37.85                52.0       2491.0   \n",
              "13     13    -122.26     37.84                52.0        696.0   \n",
              "\n",
              "    total_bedrooms  population  households  median_income  median_house_value  \\\n",
              "8            665.0      1206.0       595.0         2.0804            226700.0   \n",
              "10           434.0       910.0       402.0         3.2031            281500.0   \n",
              "11           752.0      1504.0       734.0         3.2705            241800.0   \n",
              "12           474.0      1098.0       468.0         3.0750            213500.0   \n",
              "13           191.0       345.0       174.0         2.6736            191300.0   \n",
              "\n",
              "   ocean_proximity         id  \n",
              "8         NEAR BAY -122222.16  \n",
              "10        NEAR BAY -122222.15  \n",
              "11        NEAR BAY -122222.15  \n",
              "12        NEAR BAY -122222.15  \n",
              "13        NEAR BAY -122222.16  "
            ]
          },
          "execution_count": 45,
          "metadata": {},
          "output_type": "execute_result"
        }
      ],
      "source": [
        "test_set.head()"
      ]
    },
    {
      "cell_type": "code",
      "execution_count": 46,
      "metadata": {
        "id": "07C014xmENa5"
      },
      "outputs": [],
      "source": [
        "from sklearn.model_selection import train_test_split\n",
        "\n",
        "train_set, test_set = train_test_split(housing, test_size=0.2, random_state=42)"
      ]
    },
    {
      "cell_type": "markdown",
      "metadata": {
        "id": "wNM4Wea-Qoj-"
      },
      "source": [
        "**Notes:**\n",
        "\n",
        "A purely random sampling method is generally fine if the dataset is large enough (specially relative to the number of attributes), but if it is not, there is a risk of introducing a significant sampling bias. To solver this, a technique called *stratified sampling*: the population is divided into homogeneus subgroups called *strata*, and right number of instances are sampled from each stratum to guarantee the that test set is representative of the overall population. Otherwise, the selection result would be significantly biased."
      ]
    },
    {
      "cell_type": "code",
      "execution_count": 47,
      "metadata": {
        "colab": {
          "base_uri": "https://localhost:8080/",
          "height": 270
        },
        "id": "YMMSkmfk_4jN",
        "outputId": "695c1024-6b12-4bba-e991-95d741934828"
      },
      "outputs": [
        {
          "data": {
            "text/html": [
              "<div>\n",
              "<style scoped>\n",
              "    .dataframe tbody tr th:only-of-type {\n",
              "        vertical-align: middle;\n",
              "    }\n",
              "\n",
              "    .dataframe tbody tr th {\n",
              "        vertical-align: top;\n",
              "    }\n",
              "\n",
              "    .dataframe thead th {\n",
              "        text-align: right;\n",
              "    }\n",
              "</style>\n",
              "<table border=\"1\" class=\"dataframe\">\n",
              "  <thead>\n",
              "    <tr style=\"text-align: right;\">\n",
              "      <th></th>\n",
              "      <th>longitude</th>\n",
              "      <th>latitude</th>\n",
              "      <th>housing_median_age</th>\n",
              "      <th>total_rooms</th>\n",
              "      <th>total_bedrooms</th>\n",
              "      <th>population</th>\n",
              "      <th>households</th>\n",
              "      <th>median_income</th>\n",
              "      <th>median_house_value</th>\n",
              "      <th>ocean_proximity</th>\n",
              "    </tr>\n",
              "  </thead>\n",
              "  <tbody>\n",
              "    <tr>\n",
              "      <th>20046</th>\n",
              "      <td>-119.01</td>\n",
              "      <td>36.06</td>\n",
              "      <td>25.0</td>\n",
              "      <td>1505.0</td>\n",
              "      <td>NaN</td>\n",
              "      <td>1392.0</td>\n",
              "      <td>359.0</td>\n",
              "      <td>1.6812</td>\n",
              "      <td>47700.0</td>\n",
              "      <td>INLAND</td>\n",
              "    </tr>\n",
              "    <tr>\n",
              "      <th>3024</th>\n",
              "      <td>-119.46</td>\n",
              "      <td>35.14</td>\n",
              "      <td>30.0</td>\n",
              "      <td>2943.0</td>\n",
              "      <td>NaN</td>\n",
              "      <td>1565.0</td>\n",
              "      <td>584.0</td>\n",
              "      <td>2.5313</td>\n",
              "      <td>45800.0</td>\n",
              "      <td>INLAND</td>\n",
              "    </tr>\n",
              "    <tr>\n",
              "      <th>15663</th>\n",
              "      <td>-122.44</td>\n",
              "      <td>37.80</td>\n",
              "      <td>52.0</td>\n",
              "      <td>3830.0</td>\n",
              "      <td>NaN</td>\n",
              "      <td>1310.0</td>\n",
              "      <td>963.0</td>\n",
              "      <td>3.4801</td>\n",
              "      <td>500001.0</td>\n",
              "      <td>NEAR BAY</td>\n",
              "    </tr>\n",
              "    <tr>\n",
              "      <th>20484</th>\n",
              "      <td>-118.72</td>\n",
              "      <td>34.28</td>\n",
              "      <td>17.0</td>\n",
              "      <td>3051.0</td>\n",
              "      <td>NaN</td>\n",
              "      <td>1705.0</td>\n",
              "      <td>495.0</td>\n",
              "      <td>5.7376</td>\n",
              "      <td>218600.0</td>\n",
              "      <td>&lt;1H OCEAN</td>\n",
              "    </tr>\n",
              "    <tr>\n",
              "      <th>9814</th>\n",
              "      <td>-121.93</td>\n",
              "      <td>36.62</td>\n",
              "      <td>34.0</td>\n",
              "      <td>2351.0</td>\n",
              "      <td>NaN</td>\n",
              "      <td>1063.0</td>\n",
              "      <td>428.0</td>\n",
              "      <td>3.7250</td>\n",
              "      <td>278000.0</td>\n",
              "      <td>NEAR OCEAN</td>\n",
              "    </tr>\n",
              "  </tbody>\n",
              "</table>\n",
              "</div>"
            ],
            "text/plain": [
              "       longitude  latitude  housing_median_age  total_rooms  total_bedrooms  \\\n",
              "20046    -119.01     36.06                25.0       1505.0             NaN   \n",
              "3024     -119.46     35.14                30.0       2943.0             NaN   \n",
              "15663    -122.44     37.80                52.0       3830.0             NaN   \n",
              "20484    -118.72     34.28                17.0       3051.0             NaN   \n",
              "9814     -121.93     36.62                34.0       2351.0             NaN   \n",
              "\n",
              "       population  households  median_income  median_house_value  \\\n",
              "20046      1392.0       359.0         1.6812             47700.0   \n",
              "3024       1565.0       584.0         2.5313             45800.0   \n",
              "15663      1310.0       963.0         3.4801            500001.0   \n",
              "20484      1705.0       495.0         5.7376            218600.0   \n",
              "9814       1063.0       428.0         3.7250            278000.0   \n",
              "\n",
              "      ocean_proximity  \n",
              "20046          INLAND  \n",
              "3024           INLAND  \n",
              "15663        NEAR BAY  \n",
              "20484       <1H OCEAN  \n",
              "9814       NEAR OCEAN  "
            ]
          },
          "execution_count": 47,
          "metadata": {},
          "output_type": "execute_result"
        }
      ],
      "source": [
        "test_set.head()"
      ]
    },
    {
      "cell_type": "markdown",
      "metadata": {
        "id": "j2j_ja8RbC2n"
      },
      "source": [
        "It is supposed that the experts in this housing sataset say that the median income is a very important attribute to predict the median housing prices. To ensure that the test set is representative of the various categories of incomes in the whole dataset, an income category attribute  has to be created.\n",
        "\n",
        "It is important to have a sufficient number of instances in the dataset of each stratum, or else the estimate of a stratum's importance may be biased. This means that it should not have too many strata, and each stratum should be large enough."
      ]
    },
    {
      "cell_type": "code",
      "execution_count": 48,
      "metadata": {
        "colab": {
          "base_uri": "https://localhost:8080/",
          "height": 452
        },
        "id": "0czrbHM4_6C0",
        "outputId": "383bd0ea-83ca-4ede-f085-8454f8b0a5f5"
      },
      "outputs": [
        {
          "name": "stdout",
          "output_type": "stream",
          "text": [
            "Unexpected exception formatting exception. Falling back to standard exception\n"
          ]
        },
        {
          "name": "stderr",
          "output_type": "stream",
          "text": [
            "Traceback (most recent call last):\n",
            "  File \"c:\\Users\\usuario\\Documents\\GitHub\\activity_session3\\venv310\\lib\\site-packages\\IPython\\core\\interactiveshell.py\", line 3508, in run_code\n",
            "    exec(code_obj, self.user_global_ns, self.user_ns)\n",
            "  File \"C:\\Users\\usuario\\AppData\\Local\\Temp\\ipykernel_6052\\2403799847.py\", line 1, in <module>\n",
            "    housing['median_income'].hist()\n",
            "  File \"c:\\Users\\usuario\\Documents\\GitHub\\activity_session3\\venv310\\lib\\site-packages\\pandas\\plotting\\_core.py\", line 99, in hist_series\n",
            "    return plot_backend.hist_series(\n",
            "  File \"c:\\Users\\usuario\\Documents\\GitHub\\activity_session3\\venv310\\lib\\site-packages\\pandas\\plotting\\_core.py\", line 1849, in _get_plot_backend\n",
            "  File \"c:\\Users\\usuario\\Documents\\GitHub\\activity_session3\\venv310\\lib\\site-packages\\pandas\\plotting\\_core.py\", line 1787, in _load_backend\n",
            "ImportError: matplotlib is required for plotting when the default backend \"matplotlib\" is selected.\n",
            "\n",
            "During handling of the above exception, another exception occurred:\n",
            "\n",
            "Traceback (most recent call last):\n",
            "  File \"c:\\Users\\usuario\\Documents\\GitHub\\activity_session3\\venv310\\lib\\site-packages\\IPython\\core\\interactiveshell.py\", line 2105, in showtraceback\n",
            "    stb = self.InteractiveTB.structured_traceback(\n",
            "  File \"c:\\Users\\usuario\\Documents\\GitHub\\activity_session3\\venv310\\lib\\site-packages\\IPython\\core\\ultratb.py\", line 1428, in structured_traceback\n",
            "    return FormattedTB.structured_traceback(\n",
            "  File \"c:\\Users\\usuario\\Documents\\GitHub\\activity_session3\\venv310\\lib\\site-packages\\IPython\\core\\ultratb.py\", line 1319, in structured_traceback\n",
            "    return VerboseTB.structured_traceback(\n",
            "  File \"c:\\Users\\usuario\\Documents\\GitHub\\activity_session3\\venv310\\lib\\site-packages\\IPython\\core\\ultratb.py\", line 1172, in structured_traceback\n",
            "    formatted_exception = self.format_exception_as_a_whole(etype, evalue, etb, number_of_lines_of_context,\n",
            "  File \"c:\\Users\\usuario\\Documents\\GitHub\\activity_session3\\venv310\\lib\\site-packages\\IPython\\core\\ultratb.py\", line 1087, in format_exception_as_a_whole\n",
            "    frames.append(self.format_record(record))\n",
            "  File \"c:\\Users\\usuario\\Documents\\GitHub\\activity_session3\\venv310\\lib\\site-packages\\IPython\\core\\ultratb.py\", line 969, in format_record\n",
            "    frame_info.lines, Colors, self.has_colors, lvals\n",
            "  File \"c:\\Users\\usuario\\Documents\\GitHub\\activity_session3\\venv310\\lib\\site-packages\\IPython\\core\\ultratb.py\", line 792, in lines\n",
            "    return self._sd.lines\n",
            "  File \"c:\\Users\\usuario\\Documents\\GitHub\\activity_session3\\venv310\\lib\\site-packages\\stack_data\\utils.py\", line 144, in cached_property_wrapper\n",
            "    value = obj.__dict__[self.func.__name__] = self.func(obj)\n",
            "  File \"c:\\Users\\usuario\\Documents\\GitHub\\activity_session3\\venv310\\lib\\site-packages\\stack_data\\core.py\", line 734, in lines\n",
            "    pieces = self.included_pieces\n",
            "  File \"c:\\Users\\usuario\\Documents\\GitHub\\activity_session3\\venv310\\lib\\site-packages\\stack_data\\utils.py\", line 144, in cached_property_wrapper\n",
            "    value = obj.__dict__[self.func.__name__] = self.func(obj)\n",
            "  File \"c:\\Users\\usuario\\Documents\\GitHub\\activity_session3\\venv310\\lib\\site-packages\\stack_data\\core.py\", line 681, in included_pieces\n",
            "    pos = scope_pieces.index(self.executing_piece)\n",
            "  File \"c:\\Users\\usuario\\Documents\\GitHub\\activity_session3\\venv310\\lib\\site-packages\\stack_data\\utils.py\", line 144, in cached_property_wrapper\n",
            "    value = obj.__dict__[self.func.__name__] = self.func(obj)\n",
            "  File \"c:\\Users\\usuario\\Documents\\GitHub\\activity_session3\\venv310\\lib\\site-packages\\stack_data\\core.py\", line 660, in executing_piece\n",
            "    return only(\n",
            "  File \"c:\\Users\\usuario\\Documents\\GitHub\\activity_session3\\venv310\\lib\\site-packages\\executing\\executing.py\", line 190, in only\n",
            "    raise NotOneValueFound('Expected one value, found 0')\n",
            "executing.executing.NotOneValueFound: Expected one value, found 0\n"
          ]
        }
      ],
      "source": [
        "housing['median_income'].hist()"
      ]
    },
    {
      "cell_type": "markdown",
      "metadata": {
        "id": "BusMyE8ZTyls"
      },
      "source": [
        "The following code uses the pd.cut() function to create an income category attribute with five categories (labeled from 1 to 5): category 1 ranges from 0 to 1.5 (i.e., less than $15,000), category 2 from 1.5 to 3, and so on:"
      ]
    },
    {
      "cell_type": "code",
      "execution_count": 49,
      "metadata": {
        "id": "r0d49qbtAAQr"
      },
      "outputs": [],
      "source": [
        "housing['income_cat'] = pd.cut(housing['median_income'],\n",
        "                               bins=[0., 1.5, 3.0, 4.5, 6., np.inf],\n",
        "                               labels=[1, 2, 3, 4, 5])"
      ]
    },
    {
      "cell_type": "code",
      "execution_count": 50,
      "metadata": {
        "colab": {
          "base_uri": "https://localhost:8080/"
        },
        "id": "ip7sIpGlBxYF",
        "outputId": "8c6bdaff-377b-4447-8646-473895713358"
      },
      "outputs": [
        {
          "data": {
            "text/plain": [
              "3    7236\n",
              "2    6581\n",
              "4    3639\n",
              "5    2362\n",
              "1     822\n",
              "Name: income_cat, dtype: int64"
            ]
          },
          "execution_count": 50,
          "metadata": {},
          "output_type": "execute_result"
        }
      ],
      "source": [
        "housing['income_cat'].value_counts()"
      ]
    },
    {
      "cell_type": "code",
      "execution_count": 51,
      "metadata": {
        "colab": {
          "base_uri": "https://localhost:8080/",
          "height": 452
        },
        "id": "UHZaczNCB5oN",
        "outputId": "0f000f0d-0b74-4804-a6a9-0f744c2fd8f6"
      },
      "outputs": [
        {
          "name": "stdout",
          "output_type": "stream",
          "text": [
            "Unexpected exception formatting exception. Falling back to standard exception\n"
          ]
        },
        {
          "name": "stderr",
          "output_type": "stream",
          "text": [
            "Traceback (most recent call last):\n",
            "  File \"c:\\Users\\usuario\\Documents\\GitHub\\activity_session3\\venv310\\lib\\site-packages\\IPython\\core\\interactiveshell.py\", line 3508, in run_code\n",
            "    exec(code_obj, self.user_global_ns, self.user_ns)\n",
            "  File \"C:\\Users\\usuario\\AppData\\Local\\Temp\\ipykernel_6052\\2251591408.py\", line 1, in <module>\n",
            "    housing['income_cat'].hist()\n",
            "  File \"c:\\Users\\usuario\\Documents\\GitHub\\activity_session3\\venv310\\lib\\site-packages\\pandas\\plotting\\_core.py\", line 99, in hist_series\n",
            "    return plot_backend.hist_series(\n",
            "  File \"c:\\Users\\usuario\\Documents\\GitHub\\activity_session3\\venv310\\lib\\site-packages\\pandas\\plotting\\_core.py\", line 1849, in _get_plot_backend\n",
            "  File \"c:\\Users\\usuario\\Documents\\GitHub\\activity_session3\\venv310\\lib\\site-packages\\pandas\\plotting\\_core.py\", line 1787, in _load_backend\n",
            "ImportError: matplotlib is required for plotting when the default backend \"matplotlib\" is selected.\n",
            "\n",
            "During handling of the above exception, another exception occurred:\n",
            "\n",
            "Traceback (most recent call last):\n",
            "  File \"c:\\Users\\usuario\\Documents\\GitHub\\activity_session3\\venv310\\lib\\site-packages\\IPython\\core\\interactiveshell.py\", line 2105, in showtraceback\n",
            "    stb = self.InteractiveTB.structured_traceback(\n",
            "  File \"c:\\Users\\usuario\\Documents\\GitHub\\activity_session3\\venv310\\lib\\site-packages\\IPython\\core\\ultratb.py\", line 1428, in structured_traceback\n",
            "    return FormattedTB.structured_traceback(\n",
            "  File \"c:\\Users\\usuario\\Documents\\GitHub\\activity_session3\\venv310\\lib\\site-packages\\IPython\\core\\ultratb.py\", line 1319, in structured_traceback\n",
            "    return VerboseTB.structured_traceback(\n",
            "  File \"c:\\Users\\usuario\\Documents\\GitHub\\activity_session3\\venv310\\lib\\site-packages\\IPython\\core\\ultratb.py\", line 1172, in structured_traceback\n",
            "    formatted_exception = self.format_exception_as_a_whole(etype, evalue, etb, number_of_lines_of_context,\n",
            "  File \"c:\\Users\\usuario\\Documents\\GitHub\\activity_session3\\venv310\\lib\\site-packages\\IPython\\core\\ultratb.py\", line 1087, in format_exception_as_a_whole\n",
            "    frames.append(self.format_record(record))\n",
            "  File \"c:\\Users\\usuario\\Documents\\GitHub\\activity_session3\\venv310\\lib\\site-packages\\IPython\\core\\ultratb.py\", line 969, in format_record\n",
            "    frame_info.lines, Colors, self.has_colors, lvals\n",
            "  File \"c:\\Users\\usuario\\Documents\\GitHub\\activity_session3\\venv310\\lib\\site-packages\\IPython\\core\\ultratb.py\", line 792, in lines\n",
            "    return self._sd.lines\n",
            "  File \"c:\\Users\\usuario\\Documents\\GitHub\\activity_session3\\venv310\\lib\\site-packages\\stack_data\\utils.py\", line 144, in cached_property_wrapper\n",
            "    value = obj.__dict__[self.func.__name__] = self.func(obj)\n",
            "  File \"c:\\Users\\usuario\\Documents\\GitHub\\activity_session3\\venv310\\lib\\site-packages\\stack_data\\core.py\", line 734, in lines\n",
            "    pieces = self.included_pieces\n",
            "  File \"c:\\Users\\usuario\\Documents\\GitHub\\activity_session3\\venv310\\lib\\site-packages\\stack_data\\utils.py\", line 144, in cached_property_wrapper\n",
            "    value = obj.__dict__[self.func.__name__] = self.func(obj)\n",
            "  File \"c:\\Users\\usuario\\Documents\\GitHub\\activity_session3\\venv310\\lib\\site-packages\\stack_data\\core.py\", line 681, in included_pieces\n",
            "    pos = scope_pieces.index(self.executing_piece)\n",
            "  File \"c:\\Users\\usuario\\Documents\\GitHub\\activity_session3\\venv310\\lib\\site-packages\\stack_data\\utils.py\", line 144, in cached_property_wrapper\n",
            "    value = obj.__dict__[self.func.__name__] = self.func(obj)\n",
            "  File \"c:\\Users\\usuario\\Documents\\GitHub\\activity_session3\\venv310\\lib\\site-packages\\stack_data\\core.py\", line 660, in executing_piece\n",
            "    return only(\n",
            "  File \"c:\\Users\\usuario\\Documents\\GitHub\\activity_session3\\venv310\\lib\\site-packages\\executing\\executing.py\", line 190, in only\n",
            "    raise NotOneValueFound('Expected one value, found 0')\n",
            "executing.executing.NotOneValueFound: Expected one value, found 0\n"
          ]
        }
      ],
      "source": [
        "housing['income_cat'].hist()"
      ]
    },
    {
      "cell_type": "code",
      "execution_count": 52,
      "metadata": {
        "id": "EXtEPtdJCJ96"
      },
      "outputs": [],
      "source": [
        "from sklearn.model_selection import StratifiedShuffleSplit\n",
        "\n",
        "split = StratifiedShuffleSplit(n_splits=1, test_size=0.2, random_state=42)"
      ]
    },
    {
      "cell_type": "code",
      "execution_count": 53,
      "metadata": {
        "id": "8bAsqMal8g_u"
      },
      "outputs": [],
      "source": [
        "for train_index, test_index in split.split(housing, housing['income_cat']):\n",
        "    strat_train_set = housing.loc[train_index]\n",
        "    strat_test_set = housing.loc[test_index]"
      ]
    },
    {
      "cell_type": "code",
      "execution_count": 54,
      "metadata": {
        "colab": {
          "base_uri": "https://localhost:8080/"
        },
        "id": "eAZYRjIiFQOq",
        "outputId": "2c3a5948-a185-40a3-cd6a-c527ad58ffc6"
      },
      "outputs": [
        {
          "data": {
            "text/plain": [
              "3    0.350533\n",
              "2    0.318798\n",
              "4    0.176357\n",
              "5    0.114341\n",
              "1    0.039971\n",
              "Name: income_cat, dtype: float64"
            ]
          },
          "execution_count": 54,
          "metadata": {},
          "output_type": "execute_result"
        }
      ],
      "source": [
        "strat_test_set['income_cat'].value_counts() / len(strat_test_set)"
      ]
    },
    {
      "cell_type": "code",
      "execution_count": 55,
      "metadata": {
        "colab": {
          "base_uri": "https://localhost:8080/"
        },
        "id": "Hk-V7SdXFqGO",
        "outputId": "3961e26a-c78b-429c-aff7-3dcebc6aa82b"
      },
      "outputs": [
        {
          "data": {
            "text/plain": [
              "3    0.350581\n",
              "2    0.318847\n",
              "4    0.176308\n",
              "5    0.114438\n",
              "1    0.039826\n",
              "Name: income_cat, dtype: float64"
            ]
          },
          "execution_count": 55,
          "metadata": {},
          "output_type": "execute_result"
        }
      ],
      "source": [
        "housing['income_cat'].value_counts() / len(housing)"
      ]
    },
    {
      "cell_type": "markdown",
      "metadata": {
        "id": "J2kLiUYGUHsk"
      },
      "source": [
        "With similar code the income category proportions can be measured in the full dataset."
      ]
    },
    {
      "cell_type": "code",
      "execution_count": 56,
      "metadata": {
        "id": "F-OA7bn2T9k7"
      },
      "outputs": [],
      "source": [
        "def income_cat_proportions(data):\n",
        "    return data['income_cat'].value_counts() / len(data)\n",
        "\n",
        "train_set, test_set = train_test_split(housing, test_size=0.2, random_state=42)\n",
        "\n",
        "compare_props = pd.DataFrame({\n",
        "    'Overall': income_cat_proportions(housing),\n",
        "    'Stratified': income_cat_proportions(strat_test_set),\n",
        "    'Random': income_cat_proportions(test_set),\n",
        "}).sort_index()\n",
        "compare_props['Rand. %error'] = 100 * compare_props['Random'] / compare_props['Overall'] - 100\n",
        "compare_props['Strat. %error'] = 100 * compare_props['Stratified'] / compare_props['Overall'] - 100"
      ]
    },
    {
      "cell_type": "code",
      "execution_count": 57,
      "metadata": {
        "colab": {
          "base_uri": "https://localhost:8080/",
          "height": 206
        },
        "id": "XfdyImctT_t_",
        "outputId": "623c8693-b1fb-4c3e-907b-43cde2d203fb"
      },
      "outputs": [
        {
          "data": {
            "text/html": [
              "<div>\n",
              "<style scoped>\n",
              "    .dataframe tbody tr th:only-of-type {\n",
              "        vertical-align: middle;\n",
              "    }\n",
              "\n",
              "    .dataframe tbody tr th {\n",
              "        vertical-align: top;\n",
              "    }\n",
              "\n",
              "    .dataframe thead th {\n",
              "        text-align: right;\n",
              "    }\n",
              "</style>\n",
              "<table border=\"1\" class=\"dataframe\">\n",
              "  <thead>\n",
              "    <tr style=\"text-align: right;\">\n",
              "      <th></th>\n",
              "      <th>Overall</th>\n",
              "      <th>Stratified</th>\n",
              "      <th>Random</th>\n",
              "      <th>Rand. %error</th>\n",
              "      <th>Strat. %error</th>\n",
              "    </tr>\n",
              "  </thead>\n",
              "  <tbody>\n",
              "    <tr>\n",
              "      <th>1</th>\n",
              "      <td>0.039826</td>\n",
              "      <td>0.039971</td>\n",
              "      <td>0.040213</td>\n",
              "      <td>0.973236</td>\n",
              "      <td>0.364964</td>\n",
              "    </tr>\n",
              "    <tr>\n",
              "      <th>2</th>\n",
              "      <td>0.318847</td>\n",
              "      <td>0.318798</td>\n",
              "      <td>0.324370</td>\n",
              "      <td>1.732260</td>\n",
              "      <td>-0.015195</td>\n",
              "    </tr>\n",
              "    <tr>\n",
              "      <th>3</th>\n",
              "      <td>0.350581</td>\n",
              "      <td>0.350533</td>\n",
              "      <td>0.358527</td>\n",
              "      <td>2.266446</td>\n",
              "      <td>-0.013820</td>\n",
              "    </tr>\n",
              "    <tr>\n",
              "      <th>4</th>\n",
              "      <td>0.176308</td>\n",
              "      <td>0.176357</td>\n",
              "      <td>0.167393</td>\n",
              "      <td>-5.056334</td>\n",
              "      <td>0.027480</td>\n",
              "    </tr>\n",
              "    <tr>\n",
              "      <th>5</th>\n",
              "      <td>0.114438</td>\n",
              "      <td>0.114341</td>\n",
              "      <td>0.109496</td>\n",
              "      <td>-4.318374</td>\n",
              "      <td>-0.084674</td>\n",
              "    </tr>\n",
              "  </tbody>\n",
              "</table>\n",
              "</div>"
            ],
            "text/plain": [
              "    Overall  Stratified    Random  Rand. %error  Strat. %error\n",
              "1  0.039826    0.039971  0.040213      0.973236       0.364964\n",
              "2  0.318847    0.318798  0.324370      1.732260      -0.015195\n",
              "3  0.350581    0.350533  0.358527      2.266446      -0.013820\n",
              "4  0.176308    0.176357  0.167393     -5.056334       0.027480\n",
              "5  0.114438    0.114341  0.109496     -4.318374      -0.084674"
            ]
          },
          "execution_count": 57,
          "metadata": {},
          "output_type": "execute_result"
        }
      ],
      "source": [
        "compare_props"
      ]
    },
    {
      "cell_type": "markdown",
      "metadata": {
        "id": "PxFuEIHnURh3"
      },
      "source": [
        "The test set generated using stratified sampling has income category proportions almost identical to those in the full dataset, whereas the test set generated using purely random sampling is skewed."
      ]
    },
    {
      "cell_type": "markdown",
      "metadata": {
        "id": "Lu9uwOrBqjak"
      },
      "source": [
        "# Discover and Visualize the Data to Gain Insights\n",
        "If the training set is very large, a sample exploration set may be used to explore the data. For this case, the set is quite small, so it can be directly used."
      ]
    },
    {
      "cell_type": "code",
      "execution_count": 58,
      "metadata": {
        "id": "CPX_gr5Yp9fB"
      },
      "outputs": [],
      "source": [
        "housing = strat_train_set.copy()"
      ]
    },
    {
      "cell_type": "markdown",
      "metadata": {
        "id": "2uuZCp77rjNT"
      },
      "source": [
        "## Visualizing Geographical Data"
      ]
    },
    {
      "cell_type": "code",
      "execution_count": 59,
      "metadata": {
        "colab": {
          "base_uri": "https://localhost:8080/",
          "height": 504
        },
        "id": "GkYSEImRUBjf",
        "outputId": "8a8ec950-1763-4bc7-a015-8f201245e897"
      },
      "outputs": [
        {
          "name": "stdout",
          "output_type": "stream",
          "text": [
            "Unexpected exception formatting exception. Falling back to standard exception\n"
          ]
        },
        {
          "name": "stderr",
          "output_type": "stream",
          "text": [
            "Traceback (most recent call last):\n",
            "  File \"c:\\Users\\usuario\\Documents\\GitHub\\activity_session3\\venv310\\lib\\site-packages\\IPython\\core\\interactiveshell.py\", line 3508, in run_code\n",
            "    exec(code_obj, self.user_global_ns, self.user_ns)\n",
            "  File \"C:\\Users\\usuario\\AppData\\Local\\Temp\\ipykernel_6052\\351965722.py\", line 2, in <module>\n",
            "    housing.plot(kind='scatter', x='longitude', y='latitude')\n",
            "  File \"c:\\Users\\usuario\\Documents\\GitHub\\activity_session3\\venv310\\lib\\site-packages\\pandas\\plotting\\_core.py\", line 892, in __call__\n",
            "    return x, y, kind, kwargs\n",
            "  File \"c:\\Users\\usuario\\Documents\\GitHub\\activity_session3\\venv310\\lib\\site-packages\\pandas\\plotting\\_core.py\", line 1849, in _get_plot_backend\n",
            "  File \"c:\\Users\\usuario\\Documents\\GitHub\\activity_session3\\venv310\\lib\\site-packages\\pandas\\plotting\\_core.py\", line 1787, in _load_backend\n",
            "ImportError: matplotlib is required for plotting when the default backend \"matplotlib\" is selected.\n",
            "\n",
            "During handling of the above exception, another exception occurred:\n",
            "\n",
            "Traceback (most recent call last):\n",
            "  File \"c:\\Users\\usuario\\Documents\\GitHub\\activity_session3\\venv310\\lib\\site-packages\\IPython\\core\\interactiveshell.py\", line 2105, in showtraceback\n",
            "    stb = self.InteractiveTB.structured_traceback(\n",
            "  File \"c:\\Users\\usuario\\Documents\\GitHub\\activity_session3\\venv310\\lib\\site-packages\\IPython\\core\\ultratb.py\", line 1428, in structured_traceback\n",
            "    return FormattedTB.structured_traceback(\n",
            "  File \"c:\\Users\\usuario\\Documents\\GitHub\\activity_session3\\venv310\\lib\\site-packages\\IPython\\core\\ultratb.py\", line 1319, in structured_traceback\n",
            "    return VerboseTB.structured_traceback(\n",
            "  File \"c:\\Users\\usuario\\Documents\\GitHub\\activity_session3\\venv310\\lib\\site-packages\\IPython\\core\\ultratb.py\", line 1172, in structured_traceback\n",
            "    formatted_exception = self.format_exception_as_a_whole(etype, evalue, etb, number_of_lines_of_context,\n",
            "  File \"c:\\Users\\usuario\\Documents\\GitHub\\activity_session3\\venv310\\lib\\site-packages\\IPython\\core\\ultratb.py\", line 1087, in format_exception_as_a_whole\n",
            "    frames.append(self.format_record(record))\n",
            "  File \"c:\\Users\\usuario\\Documents\\GitHub\\activity_session3\\venv310\\lib\\site-packages\\IPython\\core\\ultratb.py\", line 969, in format_record\n",
            "    frame_info.lines, Colors, self.has_colors, lvals\n",
            "  File \"c:\\Users\\usuario\\Documents\\GitHub\\activity_session3\\venv310\\lib\\site-packages\\IPython\\core\\ultratb.py\", line 792, in lines\n",
            "    return self._sd.lines\n",
            "  File \"c:\\Users\\usuario\\Documents\\GitHub\\activity_session3\\venv310\\lib\\site-packages\\stack_data\\utils.py\", line 144, in cached_property_wrapper\n",
            "    value = obj.__dict__[self.func.__name__] = self.func(obj)\n",
            "  File \"c:\\Users\\usuario\\Documents\\GitHub\\activity_session3\\venv310\\lib\\site-packages\\stack_data\\core.py\", line 734, in lines\n",
            "    pieces = self.included_pieces\n",
            "  File \"c:\\Users\\usuario\\Documents\\GitHub\\activity_session3\\venv310\\lib\\site-packages\\stack_data\\utils.py\", line 144, in cached_property_wrapper\n",
            "    value = obj.__dict__[self.func.__name__] = self.func(obj)\n",
            "  File \"c:\\Users\\usuario\\Documents\\GitHub\\activity_session3\\venv310\\lib\\site-packages\\stack_data\\core.py\", line 681, in included_pieces\n",
            "    pos = scope_pieces.index(self.executing_piece)\n",
            "  File \"c:\\Users\\usuario\\Documents\\GitHub\\activity_session3\\venv310\\lib\\site-packages\\stack_data\\utils.py\", line 144, in cached_property_wrapper\n",
            "    value = obj.__dict__[self.func.__name__] = self.func(obj)\n",
            "  File \"c:\\Users\\usuario\\Documents\\GitHub\\activity_session3\\venv310\\lib\\site-packages\\stack_data\\core.py\", line 660, in executing_piece\n",
            "    return only(\n",
            "  File \"c:\\Users\\usuario\\Documents\\GitHub\\activity_session3\\venv310\\lib\\site-packages\\executing\\executing.py\", line 190, in only\n",
            "    raise NotOneValueFound('Expected one value, found 0')\n",
            "executing.executing.NotOneValueFound: Expected one value, found 0\n"
          ]
        }
      ],
      "source": [
        "# Graphing the geographical information by latitude and longitude and using a scatterplot of all districts\n",
        "housing.plot(kind='scatter', x='longitude', y='latitude')\n",
        "save_fig('bad_visualization_plot')"
      ]
    },
    {
      "cell_type": "code",
      "execution_count": 60,
      "metadata": {
        "colab": {
          "base_uri": "https://localhost:8080/",
          "height": 504
        },
        "id": "N6x_K7N1sB05",
        "outputId": "d01681a7-a40d-4515-f534-c6f307dc791d"
      },
      "outputs": [
        {
          "name": "stdout",
          "output_type": "stream",
          "text": [
            "Unexpected exception formatting exception. Falling back to standard exception\n"
          ]
        },
        {
          "name": "stderr",
          "output_type": "stream",
          "text": [
            "Traceback (most recent call last):\n",
            "  File \"c:\\Users\\usuario\\Documents\\GitHub\\activity_session3\\venv310\\lib\\site-packages\\IPython\\core\\interactiveshell.py\", line 3508, in run_code\n",
            "    exec(code_obj, self.user_global_ns, self.user_ns)\n",
            "  File \"C:\\Users\\usuario\\AppData\\Local\\Temp\\ipykernel_6052\\1629829256.py\", line 2, in <module>\n",
            "    housing.plot(kind='scatter', x='longitude', y='latitude', alpha=0.1)\n",
            "  File \"c:\\Users\\usuario\\Documents\\GitHub\\activity_session3\\venv310\\lib\\site-packages\\pandas\\plotting\\_core.py\", line 892, in __call__\n",
            "    return x, y, kind, kwargs\n",
            "  File \"c:\\Users\\usuario\\Documents\\GitHub\\activity_session3\\venv310\\lib\\site-packages\\pandas\\plotting\\_core.py\", line 1849, in _get_plot_backend\n",
            "  File \"c:\\Users\\usuario\\Documents\\GitHub\\activity_session3\\venv310\\lib\\site-packages\\pandas\\plotting\\_core.py\", line 1787, in _load_backend\n",
            "ImportError: matplotlib is required for plotting when the default backend \"matplotlib\" is selected.\n",
            "\n",
            "During handling of the above exception, another exception occurred:\n",
            "\n",
            "Traceback (most recent call last):\n",
            "  File \"c:\\Users\\usuario\\Documents\\GitHub\\activity_session3\\venv310\\lib\\site-packages\\IPython\\core\\interactiveshell.py\", line 2105, in showtraceback\n",
            "    stb = self.InteractiveTB.structured_traceback(\n",
            "  File \"c:\\Users\\usuario\\Documents\\GitHub\\activity_session3\\venv310\\lib\\site-packages\\IPython\\core\\ultratb.py\", line 1428, in structured_traceback\n",
            "    return FormattedTB.structured_traceback(\n",
            "  File \"c:\\Users\\usuario\\Documents\\GitHub\\activity_session3\\venv310\\lib\\site-packages\\IPython\\core\\ultratb.py\", line 1319, in structured_traceback\n",
            "    return VerboseTB.structured_traceback(\n",
            "  File \"c:\\Users\\usuario\\Documents\\GitHub\\activity_session3\\venv310\\lib\\site-packages\\IPython\\core\\ultratb.py\", line 1172, in structured_traceback\n",
            "    formatted_exception = self.format_exception_as_a_whole(etype, evalue, etb, number_of_lines_of_context,\n",
            "  File \"c:\\Users\\usuario\\Documents\\GitHub\\activity_session3\\venv310\\lib\\site-packages\\IPython\\core\\ultratb.py\", line 1087, in format_exception_as_a_whole\n",
            "    frames.append(self.format_record(record))\n",
            "  File \"c:\\Users\\usuario\\Documents\\GitHub\\activity_session3\\venv310\\lib\\site-packages\\IPython\\core\\ultratb.py\", line 969, in format_record\n",
            "    frame_info.lines, Colors, self.has_colors, lvals\n",
            "  File \"c:\\Users\\usuario\\Documents\\GitHub\\activity_session3\\venv310\\lib\\site-packages\\IPython\\core\\ultratb.py\", line 792, in lines\n",
            "    return self._sd.lines\n",
            "  File \"c:\\Users\\usuario\\Documents\\GitHub\\activity_session3\\venv310\\lib\\site-packages\\stack_data\\utils.py\", line 144, in cached_property_wrapper\n",
            "    value = obj.__dict__[self.func.__name__] = self.func(obj)\n",
            "  File \"c:\\Users\\usuario\\Documents\\GitHub\\activity_session3\\venv310\\lib\\site-packages\\stack_data\\core.py\", line 734, in lines\n",
            "    pieces = self.included_pieces\n",
            "  File \"c:\\Users\\usuario\\Documents\\GitHub\\activity_session3\\venv310\\lib\\site-packages\\stack_data\\utils.py\", line 144, in cached_property_wrapper\n",
            "    value = obj.__dict__[self.func.__name__] = self.func(obj)\n",
            "  File \"c:\\Users\\usuario\\Documents\\GitHub\\activity_session3\\venv310\\lib\\site-packages\\stack_data\\core.py\", line 681, in included_pieces\n",
            "    pos = scope_pieces.index(self.executing_piece)\n",
            "  File \"c:\\Users\\usuario\\Documents\\GitHub\\activity_session3\\venv310\\lib\\site-packages\\stack_data\\utils.py\", line 144, in cached_property_wrapper\n",
            "    value = obj.__dict__[self.func.__name__] = self.func(obj)\n",
            "  File \"c:\\Users\\usuario\\Documents\\GitHub\\activity_session3\\venv310\\lib\\site-packages\\stack_data\\core.py\", line 660, in executing_piece\n",
            "    return only(\n",
            "  File \"c:\\Users\\usuario\\Documents\\GitHub\\activity_session3\\venv310\\lib\\site-packages\\executing\\executing.py\", line 190, in only\n",
            "    raise NotOneValueFound('Expected one value, found 0')\n",
            "executing.executing.NotOneValueFound: Expected one value, found 0\n"
          ]
        }
      ],
      "source": [
        "# To visualize some particular patterns, the alpha option has to be set to 0.1\n",
        "housing.plot(kind='scatter', x='longitude', y='latitude', alpha=0.1)\n",
        "save_fig('better_visualization_plot')"
      ]
    },
    {
      "cell_type": "code",
      "execution_count": 61,
      "metadata": {
        "colab": {
          "base_uri": "https://localhost:8080/",
          "height": 476
        },
        "id": "a6UHo2Ows0F4",
        "outputId": "92a65a9f-c618-4638-f91a-0ca2e1182765"
      },
      "outputs": [
        {
          "name": "stdout",
          "output_type": "stream",
          "text": [
            "Unexpected exception formatting exception. Falling back to standard exception\n"
          ]
        },
        {
          "name": "stderr",
          "output_type": "stream",
          "text": [
            "Traceback (most recent call last):\n",
            "  File \"c:\\Users\\usuario\\Documents\\GitHub\\activity_session3\\venv310\\lib\\site-packages\\IPython\\core\\interactiveshell.py\", line 3508, in run_code\n",
            "    exec(code_obj, self.user_global_ns, self.user_ns)\n",
            "  File \"C:\\Users\\usuario\\AppData\\Local\\Temp\\ipykernel_6052\\3882006038.py\", line 1, in <module>\n",
            "    housing.plot(kind='scatter', x='longitude', y='latitude', alpha=0.05)\n",
            "  File \"c:\\Users\\usuario\\Documents\\GitHub\\activity_session3\\venv310\\lib\\site-packages\\pandas\\plotting\\_core.py\", line 892, in __call__\n",
            "    return x, y, kind, kwargs\n",
            "  File \"c:\\Users\\usuario\\Documents\\GitHub\\activity_session3\\venv310\\lib\\site-packages\\pandas\\plotting\\_core.py\", line 1849, in _get_plot_backend\n",
            "  File \"c:\\Users\\usuario\\Documents\\GitHub\\activity_session3\\venv310\\lib\\site-packages\\pandas\\plotting\\_core.py\", line 1787, in _load_backend\n",
            "ImportError: matplotlib is required for plotting when the default backend \"matplotlib\" is selected.\n",
            "\n",
            "During handling of the above exception, another exception occurred:\n",
            "\n",
            "Traceback (most recent call last):\n",
            "  File \"c:\\Users\\usuario\\Documents\\GitHub\\activity_session3\\venv310\\lib\\site-packages\\IPython\\core\\interactiveshell.py\", line 2105, in showtraceback\n",
            "    stb = self.InteractiveTB.structured_traceback(\n",
            "  File \"c:\\Users\\usuario\\Documents\\GitHub\\activity_session3\\venv310\\lib\\site-packages\\IPython\\core\\ultratb.py\", line 1428, in structured_traceback\n",
            "    return FormattedTB.structured_traceback(\n",
            "  File \"c:\\Users\\usuario\\Documents\\GitHub\\activity_session3\\venv310\\lib\\site-packages\\IPython\\core\\ultratb.py\", line 1319, in structured_traceback\n",
            "    return VerboseTB.structured_traceback(\n",
            "  File \"c:\\Users\\usuario\\Documents\\GitHub\\activity_session3\\venv310\\lib\\site-packages\\IPython\\core\\ultratb.py\", line 1172, in structured_traceback\n",
            "    formatted_exception = self.format_exception_as_a_whole(etype, evalue, etb, number_of_lines_of_context,\n",
            "  File \"c:\\Users\\usuario\\Documents\\GitHub\\activity_session3\\venv310\\lib\\site-packages\\IPython\\core\\ultratb.py\", line 1087, in format_exception_as_a_whole\n",
            "    frames.append(self.format_record(record))\n",
            "  File \"c:\\Users\\usuario\\Documents\\GitHub\\activity_session3\\venv310\\lib\\site-packages\\IPython\\core\\ultratb.py\", line 969, in format_record\n",
            "    frame_info.lines, Colors, self.has_colors, lvals\n",
            "  File \"c:\\Users\\usuario\\Documents\\GitHub\\activity_session3\\venv310\\lib\\site-packages\\IPython\\core\\ultratb.py\", line 792, in lines\n",
            "    return self._sd.lines\n",
            "  File \"c:\\Users\\usuario\\Documents\\GitHub\\activity_session3\\venv310\\lib\\site-packages\\stack_data\\utils.py\", line 144, in cached_property_wrapper\n",
            "    value = obj.__dict__[self.func.__name__] = self.func(obj)\n",
            "  File \"c:\\Users\\usuario\\Documents\\GitHub\\activity_session3\\venv310\\lib\\site-packages\\stack_data\\core.py\", line 734, in lines\n",
            "    pieces = self.included_pieces\n",
            "  File \"c:\\Users\\usuario\\Documents\\GitHub\\activity_session3\\venv310\\lib\\site-packages\\stack_data\\utils.py\", line 144, in cached_property_wrapper\n",
            "    value = obj.__dict__[self.func.__name__] = self.func(obj)\n",
            "  File \"c:\\Users\\usuario\\Documents\\GitHub\\activity_session3\\venv310\\lib\\site-packages\\stack_data\\core.py\", line 681, in included_pieces\n",
            "    pos = scope_pieces.index(self.executing_piece)\n",
            "  File \"c:\\Users\\usuario\\Documents\\GitHub\\activity_session3\\venv310\\lib\\site-packages\\stack_data\\utils.py\", line 144, in cached_property_wrapper\n",
            "    value = obj.__dict__[self.func.__name__] = self.func(obj)\n",
            "  File \"c:\\Users\\usuario\\Documents\\GitHub\\activity_session3\\venv310\\lib\\site-packages\\stack_data\\core.py\", line 660, in executing_piece\n",
            "    return only(\n",
            "  File \"c:\\Users\\usuario\\Documents\\GitHub\\activity_session3\\venv310\\lib\\site-packages\\executing\\executing.py\", line 190, in only\n",
            "    raise NotOneValueFound('Expected one value, found 0')\n",
            "executing.executing.NotOneValueFound: Expected one value, found 0\n"
          ]
        }
      ],
      "source": [
        "housing.plot(kind='scatter', x='longitude', y='latitude', alpha=0.05)"
      ]
    },
    {
      "cell_type": "markdown",
      "metadata": {
        "id": "oBAq6YZn4nri"
      },
      "source": [
        "# Looking for correlations\n",
        "Since the dataser is not too large, the *Standard Correlation Coefficient* (also called Pearson's r) can be easily computed between every pair of attributes using the `corr()` method:"
      ]
    },
    {
      "cell_type": "code",
      "execution_count": 62,
      "metadata": {
        "id": "pQrihDWfuNQT"
      },
      "outputs": [],
      "source": [
        "corr_matrix = housing.corr()"
      ]
    },
    {
      "cell_type": "code",
      "execution_count": 63,
      "metadata": {
        "colab": {
          "base_uri": "https://localhost:8080/"
        },
        "id": "nAwAzr9H5KXT",
        "outputId": "b352219d-c00d-4b7f-e6a6-1c7652e9db02"
      },
      "outputs": [
        {
          "data": {
            "text/plain": [
              "median_house_value    1.000000\n",
              "median_income         0.687151\n",
              "total_rooms           0.135140\n",
              "housing_median_age    0.114146\n",
              "households            0.064590\n",
              "total_bedrooms        0.047781\n",
              "population           -0.026882\n",
              "longitude            -0.047466\n",
              "latitude             -0.142673\n",
              "Name: median_house_value, dtype: float64"
            ]
          },
          "execution_count": 63,
          "metadata": {},
          "output_type": "execute_result"
        }
      ],
      "source": [
        "# Looking tha attribute correlation with 'median_house_value'\n",
        "corr_matrix['median_house_value'].sort_values(ascending=False)"
      ]
    },
    {
      "cell_type": "markdown",
      "metadata": {
        "id": "ZSjS-D6H6Io5"
      },
      "source": [
        "Correlation coefficient ranges from -1 to 1 (weak to strong correlation). When the coefficient is close to –1, it means that there is a strong negative correlation; it can be seen a small negative correlation between the latitude and the median house value (i.e., prices have a slight tendency to go down when you go north).\n",
        "\n",
        "Coefficients close to 0 means that there is no linear correlation between horizontal and vertical axes.\n",
        "\n",
        "**The correlation coefficient only measures linear correlations ('if x goes up, then y generally goes up/down').**\n",
        "\n",
        "\n",
        "Another way to check for correlation between attributes is to use the pandas `scatter_matrix()` function, which plots every numerical attribute against every other numerical attribute."
      ]
    },
    {
      "cell_type": "code",
      "execution_count": 64,
      "metadata": {
        "id": "P1ANF4po6B1c"
      },
      "outputs": [],
      "source": [
        "from pandas.plotting import scatter_matrix\n",
        "attributes = ['median_house_value', 'median_income', 'total_rooms', 'housing_median_age']"
      ]
    },
    {
      "cell_type": "code",
      "execution_count": 65,
      "metadata": {
        "colab": {
          "base_uri": "https://localhost:8080/",
          "height": 774
        },
        "id": "0QOG9Dh68I05",
        "outputId": "3f911374-0d3c-4442-8c3e-a6004fd89d31"
      },
      "outputs": [
        {
          "name": "stdout",
          "output_type": "stream",
          "text": [
            "Unexpected exception formatting exception. Falling back to standard exception\n"
          ]
        },
        {
          "name": "stderr",
          "output_type": "stream",
          "text": [
            "Traceback (most recent call last):\n",
            "  File \"c:\\Users\\usuario\\Documents\\GitHub\\activity_session3\\venv310\\lib\\site-packages\\IPython\\core\\interactiveshell.py\", line 3508, in run_code\n",
            "    exec(code_obj, self.user_global_ns, self.user_ns)\n",
            "  File \"C:\\Users\\usuario\\AppData\\Local\\Temp\\ipykernel_6052\\2031854890.py\", line 1, in <module>\n",
            "    scatter_matrix(housing[attributes], figsize=(12,8))\n",
            "  File \"c:\\Users\\usuario\\Documents\\GitHub\\activity_session3\\venv310\\lib\\site-packages\\pandas\\plotting\\_misc.py\", line 143, in scatter_matrix\n",
            "    <AxesSubplot: xlabel='B', ylabel='A'>,\n",
            "  File \"c:\\Users\\usuario\\Documents\\GitHub\\activity_session3\\venv310\\lib\\site-packages\\pandas\\plotting\\_core.py\", line 1849, in _get_plot_backend\n",
            "  File \"c:\\Users\\usuario\\Documents\\GitHub\\activity_session3\\venv310\\lib\\site-packages\\pandas\\plotting\\_core.py\", line 1787, in _load_backend\n",
            "ImportError: matplotlib is required for plotting when the default backend \"matplotlib\" is selected.\n",
            "\n",
            "During handling of the above exception, another exception occurred:\n",
            "\n",
            "Traceback (most recent call last):\n",
            "  File \"c:\\Users\\usuario\\Documents\\GitHub\\activity_session3\\venv310\\lib\\site-packages\\IPython\\core\\interactiveshell.py\", line 2105, in showtraceback\n",
            "    stb = self.InteractiveTB.structured_traceback(\n",
            "  File \"c:\\Users\\usuario\\Documents\\GitHub\\activity_session3\\venv310\\lib\\site-packages\\IPython\\core\\ultratb.py\", line 1428, in structured_traceback\n",
            "    return FormattedTB.structured_traceback(\n",
            "  File \"c:\\Users\\usuario\\Documents\\GitHub\\activity_session3\\venv310\\lib\\site-packages\\IPython\\core\\ultratb.py\", line 1319, in structured_traceback\n",
            "    return VerboseTB.structured_traceback(\n",
            "  File \"c:\\Users\\usuario\\Documents\\GitHub\\activity_session3\\venv310\\lib\\site-packages\\IPython\\core\\ultratb.py\", line 1172, in structured_traceback\n",
            "    formatted_exception = self.format_exception_as_a_whole(etype, evalue, etb, number_of_lines_of_context,\n",
            "  File \"c:\\Users\\usuario\\Documents\\GitHub\\activity_session3\\venv310\\lib\\site-packages\\IPython\\core\\ultratb.py\", line 1087, in format_exception_as_a_whole\n",
            "    frames.append(self.format_record(record))\n",
            "  File \"c:\\Users\\usuario\\Documents\\GitHub\\activity_session3\\venv310\\lib\\site-packages\\IPython\\core\\ultratb.py\", line 969, in format_record\n",
            "    frame_info.lines, Colors, self.has_colors, lvals\n",
            "  File \"c:\\Users\\usuario\\Documents\\GitHub\\activity_session3\\venv310\\lib\\site-packages\\IPython\\core\\ultratb.py\", line 792, in lines\n",
            "    return self._sd.lines\n",
            "  File \"c:\\Users\\usuario\\Documents\\GitHub\\activity_session3\\venv310\\lib\\site-packages\\stack_data\\utils.py\", line 144, in cached_property_wrapper\n",
            "    value = obj.__dict__[self.func.__name__] = self.func(obj)\n",
            "  File \"c:\\Users\\usuario\\Documents\\GitHub\\activity_session3\\venv310\\lib\\site-packages\\stack_data\\core.py\", line 734, in lines\n",
            "    pieces = self.included_pieces\n",
            "  File \"c:\\Users\\usuario\\Documents\\GitHub\\activity_session3\\venv310\\lib\\site-packages\\stack_data\\utils.py\", line 144, in cached_property_wrapper\n",
            "    value = obj.__dict__[self.func.__name__] = self.func(obj)\n",
            "  File \"c:\\Users\\usuario\\Documents\\GitHub\\activity_session3\\venv310\\lib\\site-packages\\stack_data\\core.py\", line 681, in included_pieces\n",
            "    pos = scope_pieces.index(self.executing_piece)\n",
            "  File \"c:\\Users\\usuario\\Documents\\GitHub\\activity_session3\\venv310\\lib\\site-packages\\stack_data\\utils.py\", line 144, in cached_property_wrapper\n",
            "    value = obj.__dict__[self.func.__name__] = self.func(obj)\n",
            "  File \"c:\\Users\\usuario\\Documents\\GitHub\\activity_session3\\venv310\\lib\\site-packages\\stack_data\\core.py\", line 660, in executing_piece\n",
            "    return only(\n",
            "  File \"c:\\Users\\usuario\\Documents\\GitHub\\activity_session3\\venv310\\lib\\site-packages\\executing\\executing.py\", line 190, in only\n",
            "    raise NotOneValueFound('Expected one value, found 0')\n",
            "executing.executing.NotOneValueFound: Expected one value, found 0\n"
          ]
        }
      ],
      "source": [
        "scatter_matrix(housing[attributes], figsize=(12,8))"
      ]
    },
    {
      "cell_type": "markdown",
      "metadata": {
        "id": "tWIu1Liad_l8"
      },
      "source": [
        "The most promising attribute to predict the median house value is the median income, so let’s zoom in on their correlation scatterplot."
      ]
    },
    {
      "cell_type": "code",
      "execution_count": 66,
      "metadata": {
        "colab": {
          "base_uri": "https://localhost:8080/",
          "height": 477
        },
        "id": "CZqJIV4P8P17",
        "outputId": "040b9534-4e85-4cb7-c87d-e6714b2f27f6"
      },
      "outputs": [
        {
          "name": "stdout",
          "output_type": "stream",
          "text": [
            "Unexpected exception formatting exception. Falling back to standard exception\n"
          ]
        },
        {
          "name": "stderr",
          "output_type": "stream",
          "text": [
            "Traceback (most recent call last):\n",
            "  File \"c:\\Users\\usuario\\Documents\\GitHub\\activity_session3\\venv310\\lib\\site-packages\\IPython\\core\\interactiveshell.py\", line 3508, in run_code\n",
            "    exec(code_obj, self.user_global_ns, self.user_ns)\n",
            "  File \"C:\\Users\\usuario\\AppData\\Local\\Temp\\ipykernel_6052\\19724284.py\", line 1, in <module>\n",
            "    housing.plot(kind='scatter', x='median_income', y='median_house_value', alpha=0.1)\n",
            "  File \"c:\\Users\\usuario\\Documents\\GitHub\\activity_session3\\venv310\\lib\\site-packages\\pandas\\plotting\\_core.py\", line 892, in __call__\n",
            "    return x, y, kind, kwargs\n",
            "  File \"c:\\Users\\usuario\\Documents\\GitHub\\activity_session3\\venv310\\lib\\site-packages\\pandas\\plotting\\_core.py\", line 1849, in _get_plot_backend\n",
            "  File \"c:\\Users\\usuario\\Documents\\GitHub\\activity_session3\\venv310\\lib\\site-packages\\pandas\\plotting\\_core.py\", line 1787, in _load_backend\n",
            "ImportError: matplotlib is required for plotting when the default backend \"matplotlib\" is selected.\n",
            "\n",
            "During handling of the above exception, another exception occurred:\n",
            "\n",
            "Traceback (most recent call last):\n",
            "  File \"c:\\Users\\usuario\\Documents\\GitHub\\activity_session3\\venv310\\lib\\site-packages\\IPython\\core\\interactiveshell.py\", line 2105, in showtraceback\n",
            "    stb = self.InteractiveTB.structured_traceback(\n",
            "  File \"c:\\Users\\usuario\\Documents\\GitHub\\activity_session3\\venv310\\lib\\site-packages\\IPython\\core\\ultratb.py\", line 1428, in structured_traceback\n",
            "    return FormattedTB.structured_traceback(\n",
            "  File \"c:\\Users\\usuario\\Documents\\GitHub\\activity_session3\\venv310\\lib\\site-packages\\IPython\\core\\ultratb.py\", line 1319, in structured_traceback\n",
            "    return VerboseTB.structured_traceback(\n",
            "  File \"c:\\Users\\usuario\\Documents\\GitHub\\activity_session3\\venv310\\lib\\site-packages\\IPython\\core\\ultratb.py\", line 1172, in structured_traceback\n",
            "    formatted_exception = self.format_exception_as_a_whole(etype, evalue, etb, number_of_lines_of_context,\n",
            "  File \"c:\\Users\\usuario\\Documents\\GitHub\\activity_session3\\venv310\\lib\\site-packages\\IPython\\core\\ultratb.py\", line 1087, in format_exception_as_a_whole\n",
            "    frames.append(self.format_record(record))\n",
            "  File \"c:\\Users\\usuario\\Documents\\GitHub\\activity_session3\\venv310\\lib\\site-packages\\IPython\\core\\ultratb.py\", line 969, in format_record\n",
            "    frame_info.lines, Colors, self.has_colors, lvals\n",
            "  File \"c:\\Users\\usuario\\Documents\\GitHub\\activity_session3\\venv310\\lib\\site-packages\\IPython\\core\\ultratb.py\", line 792, in lines\n",
            "    return self._sd.lines\n",
            "  File \"c:\\Users\\usuario\\Documents\\GitHub\\activity_session3\\venv310\\lib\\site-packages\\stack_data\\utils.py\", line 144, in cached_property_wrapper\n",
            "    value = obj.__dict__[self.func.__name__] = self.func(obj)\n",
            "  File \"c:\\Users\\usuario\\Documents\\GitHub\\activity_session3\\venv310\\lib\\site-packages\\stack_data\\core.py\", line 734, in lines\n",
            "    pieces = self.included_pieces\n",
            "  File \"c:\\Users\\usuario\\Documents\\GitHub\\activity_session3\\venv310\\lib\\site-packages\\stack_data\\utils.py\", line 144, in cached_property_wrapper\n",
            "    value = obj.__dict__[self.func.__name__] = self.func(obj)\n",
            "  File \"c:\\Users\\usuario\\Documents\\GitHub\\activity_session3\\venv310\\lib\\site-packages\\stack_data\\core.py\", line 681, in included_pieces\n",
            "    pos = scope_pieces.index(self.executing_piece)\n",
            "  File \"c:\\Users\\usuario\\Documents\\GitHub\\activity_session3\\venv310\\lib\\site-packages\\stack_data\\utils.py\", line 144, in cached_property_wrapper\n",
            "    value = obj.__dict__[self.func.__name__] = self.func(obj)\n",
            "  File \"c:\\Users\\usuario\\Documents\\GitHub\\activity_session3\\venv310\\lib\\site-packages\\stack_data\\core.py\", line 660, in executing_piece\n",
            "    return only(\n",
            "  File \"c:\\Users\\usuario\\Documents\\GitHub\\activity_session3\\venv310\\lib\\site-packages\\executing\\executing.py\", line 190, in only\n",
            "    raise NotOneValueFound('Expected one value, found 0')\n",
            "executing.executing.NotOneValueFound: Expected one value, found 0\n"
          ]
        }
      ],
      "source": [
        "housing.plot(kind='scatter', x='median_income', y='median_house_value', alpha=0.1)"
      ]
    },
    {
      "cell_type": "markdown",
      "metadata": {
        "id": "tc1h6ZltehAd"
      },
      "source": [
        "This plot reveals a few things. First, the correlation is indeed very strong; the upward trend can clearly be seen, and the points are not too dispersed. Second, the price cap noticed earlier is clearly visible as a horizontal line at \\$500,000. But this plot reveals other less obvious straight lines: a horizontal line around \\$450,000, another around \\$350,000, perhaps one around \\$280,000, and a few more below that.\n",
        "\n",
        "To prevent the algorithms from learning to reproduce these data quirks, it may be neccesary to try removing the corresponding districts."
      ]
    },
    {
      "cell_type": "markdown",
      "metadata": {
        "id": "7OnXo_V-bWC7"
      },
      "source": [
        "# Experimenting with Attribute Combinations\n",
        "One last thing that may be wanted to be done before preparing the data for Machine Learninh algorithms is try out various attribute combinations. For example, the total numbers of rooms in a district is not very useful if the number of households is unknown. The number of rooms per household is the important data."
      ]
    },
    {
      "cell_type": "code",
      "execution_count": 67,
      "metadata": {
        "id": "lgdajhG8eeKZ"
      },
      "outputs": [],
      "source": [
        "housing['rooms_per_household'] = housing['total_rooms']/housing['households']"
      ]
    },
    {
      "cell_type": "code",
      "execution_count": 68,
      "metadata": {
        "id": "hFDoUStCcivq"
      },
      "outputs": [],
      "source": [
        "housing['bedrooms_per_room'] = housing['total_bedrooms']/housing['total_rooms']"
      ]
    },
    {
      "cell_type": "code",
      "execution_count": 69,
      "metadata": {
        "id": "bDqf6wR4csIh"
      },
      "outputs": [],
      "source": [
        "housing['population_per_household'] = housing['population']/housing['households']"
      ]
    },
    {
      "cell_type": "code",
      "execution_count": 70,
      "metadata": {
        "colab": {
          "base_uri": "https://localhost:8080/"
        },
        "id": "7vkIUD1Sc7pL",
        "outputId": "41cb8a95-29a3-4ca4-c485-3f822a208c46"
      },
      "outputs": [
        {
          "data": {
            "text/plain": [
              "median_house_value          1.000000\n",
              "median_income               0.687151\n",
              "rooms_per_household         0.146255\n",
              "total_rooms                 0.135140\n",
              "housing_median_age          0.114146\n",
              "households                  0.064590\n",
              "total_bedrooms              0.047781\n",
              "population_per_household   -0.021991\n",
              "population                 -0.026882\n",
              "longitude                  -0.047466\n",
              "latitude                   -0.142673\n",
              "bedrooms_per_room          -0.259952\n",
              "Name: median_house_value, dtype: float64"
            ]
          },
          "execution_count": 70,
          "metadata": {},
          "output_type": "execute_result"
        }
      ],
      "source": [
        "# Look at the correlation matrix again:\n",
        "corr_matrix = housing.corr()\n",
        "corr_matrix['median_house_value'].sort_values(ascending=False)"
      ]
    },
    {
      "cell_type": "markdown",
      "metadata": {
        "id": "KwUGpCAsdUzI"
      },
      "source": [
        "The new `bedrooms_per_room` attribute is much more correlated with the median house value than the total number of rooms or bedrooms. Apparently, houses with a lower bedroom/ratio tend to be more expensive. The rooms_per_household is also more informative than the total_rooms attribute -the larger the houses, the more expensive they are-."
      ]
    },
    {
      "cell_type": "markdown",
      "metadata": {
        "id": "3CZ-lfUwijfX"
      },
      "source": [
        "# Prepare the data for Machine Learning algorithm\n",
        "Instead of doing this manually, functions should be written for this purpose, for several good reasons:\n",
        "* This will allows to reproduce these transformations easily on any dataset (e.g., the next time a fresh dataset is getting).\n",
        "* Gradually a library of transformation functions can be built that can be reused in future projects.\n",
        "* These functions canb be used in the live system to transform the new data before feeding it to the algorithms.\n",
        "* This will make it possible to easily try various transformations and see which combination of transformations works best.\n",
        "\n",
        "But first, let's revert to a clean training set by copying `strat_train_set` once again. Also separate the predictors and the labels, since it doesn't  necessarily want to apply the same transformations to the predictors and the target values (note that drop() creates a copy of the data and does not affect strat_train_set)."
      ]
    },
    {
      "cell_type": "code",
      "execution_count": 71,
      "metadata": {
        "id": "v3Pu_XOFdIeD"
      },
      "outputs": [],
      "source": [
        "housing = strat_train_set . drop ( 'median_house_value' , axis = 1 )\n",
        "housing_labels = strat_train_set [ 'median_house_value' ] . copy ()"
      ]
    },
    {
      "cell_type": "markdown",
      "metadata": {
        "id": "sLaACY9PkULb"
      },
      "source": [
        "# Data Cleaning\n",
        "Most Machine Learning algorithms cannot work with missing features, so let’s create a few functions to take care of them.\n",
        "\n",
        "The `total_bedrooms` attribute has some missing values, the options are:\n",
        "1. Get rid of the corresponding districts.\n",
        "2. Get rid of the whole attribute.\n",
        "3. Set the values to some value (zero, the mean, the median, etc.).\n",
        "\n",
        "These options can be easily accomplished by using the DataFrame's `dropna()`, `drop()`, and `fillna()` methods:\n"
      ]
    },
    {
      "cell_type": "code",
      "execution_count": 72,
      "metadata": {
        "id": "e1NqTJRDj9J9"
      },
      "outputs": [],
      "source": [
        "housing.dropna (subset=['total_bedrooms']) # option 1\n",
        "housing.drop('total_bedrooms', axis=1) # option 2\n",
        "median = housing ['total_bedrooms'].median() # option 3\n",
        "housing['total_bedrooms'].fillna(median, inplace=True)"
      ]
    },
    {
      "cell_type": "markdown",
      "metadata": {
        "id": "p5hogn7ElduM"
      },
      "source": [
        "Scikit-Learn provides a handy class to take care of missing values: `SimpleImputer`"
      ]
    },
    {
      "cell_type": "code",
      "execution_count": 73,
      "metadata": {
        "id": "Lmo_7KfolRmb"
      },
      "outputs": [],
      "source": [
        "from sklearn.impute import SimpleImputer\n",
        "imputer = SimpleImputer(strategy='median')"
      ]
    },
    {
      "cell_type": "code",
      "execution_count": 74,
      "metadata": {
        "id": "vqbLBj_fln70"
      },
      "outputs": [],
      "source": [
        "# Since the median can only be computed on numerical attributes, it's neccesary to create a copy of the data without the text attribute ocean_proximity\n",
        "housing_num = housing.drop('ocean_proximity', axis=1)"
      ]
    },
    {
      "cell_type": "code",
      "execution_count": 75,
      "metadata": {
        "colab": {
          "base_uri": "https://localhost:8080/",
          "height": 75
        },
        "id": "osTJXqATl1Bh",
        "outputId": "9338b31e-a0e4-4cc0-a5f6-fc06ef03dab7"
      },
      "outputs": [
        {
          "data": {
            "text/html": [
              "<style>#sk-container-id-1 {color: black;background-color: white;}#sk-container-id-1 pre{padding: 0;}#sk-container-id-1 div.sk-toggleable {background-color: white;}#sk-container-id-1 label.sk-toggleable__label {cursor: pointer;display: block;width: 100%;margin-bottom: 0;padding: 0.3em;box-sizing: border-box;text-align: center;}#sk-container-id-1 label.sk-toggleable__label-arrow:before {content: \"▸\";float: left;margin-right: 0.25em;color: #696969;}#sk-container-id-1 label.sk-toggleable__label-arrow:hover:before {color: black;}#sk-container-id-1 div.sk-estimator:hover label.sk-toggleable__label-arrow:before {color: black;}#sk-container-id-1 div.sk-toggleable__content {max-height: 0;max-width: 0;overflow: hidden;text-align: left;background-color: #f0f8ff;}#sk-container-id-1 div.sk-toggleable__content pre {margin: 0.2em;color: black;border-radius: 0.25em;background-color: #f0f8ff;}#sk-container-id-1 input.sk-toggleable__control:checked~div.sk-toggleable__content {max-height: 200px;max-width: 100%;overflow: auto;}#sk-container-id-1 input.sk-toggleable__control:checked~label.sk-toggleable__label-arrow:before {content: \"▾\";}#sk-container-id-1 div.sk-estimator input.sk-toggleable__control:checked~label.sk-toggleable__label {background-color: #d4ebff;}#sk-container-id-1 div.sk-label input.sk-toggleable__control:checked~label.sk-toggleable__label {background-color: #d4ebff;}#sk-container-id-1 input.sk-hidden--visually {border: 0;clip: rect(1px 1px 1px 1px);clip: rect(1px, 1px, 1px, 1px);height: 1px;margin: -1px;overflow: hidden;padding: 0;position: absolute;width: 1px;}#sk-container-id-1 div.sk-estimator {font-family: monospace;background-color: #f0f8ff;border: 1px dotted black;border-radius: 0.25em;box-sizing: border-box;margin-bottom: 0.5em;}#sk-container-id-1 div.sk-estimator:hover {background-color: #d4ebff;}#sk-container-id-1 div.sk-parallel-item::after {content: \"\";width: 100%;border-bottom: 1px solid gray;flex-grow: 1;}#sk-container-id-1 div.sk-label:hover label.sk-toggleable__label {background-color: #d4ebff;}#sk-container-id-1 div.sk-serial::before {content: \"\";position: absolute;border-left: 1px solid gray;box-sizing: border-box;top: 0;bottom: 0;left: 50%;z-index: 0;}#sk-container-id-1 div.sk-serial {display: flex;flex-direction: column;align-items: center;background-color: white;padding-right: 0.2em;padding-left: 0.2em;position: relative;}#sk-container-id-1 div.sk-item {position: relative;z-index: 1;}#sk-container-id-1 div.sk-parallel {display: flex;align-items: stretch;justify-content: center;background-color: white;position: relative;}#sk-container-id-1 div.sk-item::before, #sk-container-id-1 div.sk-parallel-item::before {content: \"\";position: absolute;border-left: 1px solid gray;box-sizing: border-box;top: 0;bottom: 0;left: 50%;z-index: -1;}#sk-container-id-1 div.sk-parallel-item {display: flex;flex-direction: column;z-index: 1;position: relative;background-color: white;}#sk-container-id-1 div.sk-parallel-item:first-child::after {align-self: flex-end;width: 50%;}#sk-container-id-1 div.sk-parallel-item:last-child::after {align-self: flex-start;width: 50%;}#sk-container-id-1 div.sk-parallel-item:only-child::after {width: 0;}#sk-container-id-1 div.sk-dashed-wrapped {border: 1px dashed gray;margin: 0 0.4em 0.5em 0.4em;box-sizing: border-box;padding-bottom: 0.4em;background-color: white;}#sk-container-id-1 div.sk-label label {font-family: monospace;font-weight: bold;display: inline-block;line-height: 1.2em;}#sk-container-id-1 div.sk-label-container {text-align: center;}#sk-container-id-1 div.sk-container {/* jupyter's `normalize.less` sets `[hidden] { display: none; }` but bootstrap.min.css set `[hidden] { display: none !important; }` so we also need the `!important` here to be able to override the default hidden behavior on the sphinx rendered scikit-learn.org. See: https://github.com/scikit-learn/scikit-learn/issues/21755 */display: inline-block !important;position: relative;}#sk-container-id-1 div.sk-text-repr-fallback {display: none;}</style><div id=\"sk-container-id-1\" class=\"sk-top-container\"><div class=\"sk-text-repr-fallback\"><pre>SimpleImputer(strategy=&#x27;median&#x27;)</pre><b>In a Jupyter environment, please rerun this cell to show the HTML representation or trust the notebook. <br />On GitHub, the HTML representation is unable to render, please try loading this page with nbviewer.org.</b></div><div class=\"sk-container\" hidden><div class=\"sk-item\"><div class=\"sk-estimator sk-toggleable\"><input class=\"sk-toggleable__control sk-hidden--visually\" id=\"sk-estimator-id-1\" type=\"checkbox\" checked><label for=\"sk-estimator-id-1\" class=\"sk-toggleable__label sk-toggleable__label-arrow\">SimpleImputer</label><div class=\"sk-toggleable__content\"><pre>SimpleImputer(strategy=&#x27;median&#x27;)</pre></div></div></div></div></div>"
            ],
            "text/plain": [
              "SimpleImputer(strategy='median')"
            ]
          },
          "execution_count": 75,
          "metadata": {},
          "output_type": "execute_result"
        }
      ],
      "source": [
        "imputer.fit(housing_num)"
      ]
    },
    {
      "cell_type": "markdown",
      "metadata": {
        "id": "7fQ3v9WcmNTp"
      },
      "source": [
        "The `imputer` has simply computed the median of each attribute and stored the result in its `statistics_` instance variable. Only the `total_bedrooms` attribute had missing values, but we cannot be sure that there won’t be any missing values in new data after the system goes live, so it is safer to apply the `imputer` to all the numerical attributes:"
      ]
    },
    {
      "cell_type": "code",
      "execution_count": 76,
      "metadata": {
        "colab": {
          "base_uri": "https://localhost:8080/"
        },
        "id": "sbSviTUhl5dy",
        "outputId": "115cfd60-6bb8-4c16-e3ec-7cdbfe13458f"
      },
      "outputs": [
        {
          "data": {
            "text/plain": [
              "array([-118.51   ,   34.26   ,   29.     , 2119.     ,  433.     ,\n",
              "       1164.     ,  408.     ,    3.54155,    3.     ])"
            ]
          },
          "execution_count": 76,
          "metadata": {},
          "output_type": "execute_result"
        }
      ],
      "source": [
        "imputer.statistics_"
      ]
    },
    {
      "cell_type": "code",
      "execution_count": 77,
      "metadata": {
        "colab": {
          "base_uri": "https://localhost:8080/"
        },
        "id": "ZDAL33K6mbA8",
        "outputId": "2e8109c0-e8b6-477c-b086-d0122660a60c"
      },
      "outputs": [
        {
          "data": {
            "text/plain": [
              "array([-118.51   ,   34.26   ,   29.     , 2119.     ,  433.     ,\n",
              "       1164.     ,  408.     ,    3.54155])"
            ]
          },
          "execution_count": 77,
          "metadata": {},
          "output_type": "execute_result"
        }
      ],
      "source": [
        "housing_num.median().values"
      ]
    },
    {
      "cell_type": "markdown",
      "metadata": {
        "id": "2EBoq1G3mlcz"
      },
      "source": [
        "Now this “trained” imputer can be used to transform the training set by replacing missing values with the learned medians:"
      ]
    },
    {
      "cell_type": "code",
      "execution_count": 78,
      "metadata": {
        "id": "7zPz4tkimfha"
      },
      "outputs": [],
      "source": [
        "X = imputer.transform(housing_num)"
      ]
    },
    {
      "cell_type": "code",
      "execution_count": 79,
      "metadata": {
        "id": "kMuD2ku8mtMS"
      },
      "outputs": [],
      "source": [
        "# Put it back into a pandas DataFrame\n",
        "housing_tr = pd.DataFrame(X, columns=housing_num.columns, index=housing_num.index)"
      ]
    },
    {
      "cell_type": "code",
      "execution_count": 80,
      "metadata": {
        "colab": {
          "base_uri": "https://localhost:8080/",
          "height": 488
        },
        "id": "gkdmn9tym8lT",
        "outputId": "e9cc72db-b72f-4216-bfed-426de301a801"
      },
      "outputs": [
        {
          "data": {
            "text/html": [
              "<div>\n",
              "<style scoped>\n",
              "    .dataframe tbody tr th:only-of-type {\n",
              "        vertical-align: middle;\n",
              "    }\n",
              "\n",
              "    .dataframe tbody tr th {\n",
              "        vertical-align: top;\n",
              "    }\n",
              "\n",
              "    .dataframe thead th {\n",
              "        text-align: right;\n",
              "    }\n",
              "</style>\n",
              "<table border=\"1\" class=\"dataframe\">\n",
              "  <thead>\n",
              "    <tr style=\"text-align: right;\">\n",
              "      <th></th>\n",
              "      <th>longitude</th>\n",
              "      <th>latitude</th>\n",
              "      <th>housing_median_age</th>\n",
              "      <th>total_rooms</th>\n",
              "      <th>total_bedrooms</th>\n",
              "      <th>population</th>\n",
              "      <th>households</th>\n",
              "      <th>median_income</th>\n",
              "      <th>income_cat</th>\n",
              "    </tr>\n",
              "  </thead>\n",
              "  <tbody>\n",
              "    <tr>\n",
              "      <th>12655</th>\n",
              "      <td>-121.46</td>\n",
              "      <td>38.52</td>\n",
              "      <td>29.0</td>\n",
              "      <td>3873.0</td>\n",
              "      <td>797.0</td>\n",
              "      <td>2237.0</td>\n",
              "      <td>706.0</td>\n",
              "      <td>2.1736</td>\n",
              "      <td>2.0</td>\n",
              "    </tr>\n",
              "    <tr>\n",
              "      <th>15502</th>\n",
              "      <td>-117.23</td>\n",
              "      <td>33.09</td>\n",
              "      <td>7.0</td>\n",
              "      <td>5320.0</td>\n",
              "      <td>855.0</td>\n",
              "      <td>2015.0</td>\n",
              "      <td>768.0</td>\n",
              "      <td>6.3373</td>\n",
              "      <td>5.0</td>\n",
              "    </tr>\n",
              "    <tr>\n",
              "      <th>2908</th>\n",
              "      <td>-119.04</td>\n",
              "      <td>35.37</td>\n",
              "      <td>44.0</td>\n",
              "      <td>1618.0</td>\n",
              "      <td>310.0</td>\n",
              "      <td>667.0</td>\n",
              "      <td>300.0</td>\n",
              "      <td>2.8750</td>\n",
              "      <td>2.0</td>\n",
              "    </tr>\n",
              "    <tr>\n",
              "      <th>14053</th>\n",
              "      <td>-117.13</td>\n",
              "      <td>32.75</td>\n",
              "      <td>24.0</td>\n",
              "      <td>1877.0</td>\n",
              "      <td>519.0</td>\n",
              "      <td>898.0</td>\n",
              "      <td>483.0</td>\n",
              "      <td>2.2264</td>\n",
              "      <td>2.0</td>\n",
              "    </tr>\n",
              "    <tr>\n",
              "      <th>20496</th>\n",
              "      <td>-118.70</td>\n",
              "      <td>34.28</td>\n",
              "      <td>27.0</td>\n",
              "      <td>3536.0</td>\n",
              "      <td>646.0</td>\n",
              "      <td>1837.0</td>\n",
              "      <td>580.0</td>\n",
              "      <td>4.4964</td>\n",
              "      <td>3.0</td>\n",
              "    </tr>\n",
              "    <tr>\n",
              "      <th>...</th>\n",
              "      <td>...</td>\n",
              "      <td>...</td>\n",
              "      <td>...</td>\n",
              "      <td>...</td>\n",
              "      <td>...</td>\n",
              "      <td>...</td>\n",
              "      <td>...</td>\n",
              "      <td>...</td>\n",
              "      <td>...</td>\n",
              "    </tr>\n",
              "    <tr>\n",
              "      <th>15174</th>\n",
              "      <td>-117.07</td>\n",
              "      <td>33.03</td>\n",
              "      <td>14.0</td>\n",
              "      <td>6665.0</td>\n",
              "      <td>1231.0</td>\n",
              "      <td>2026.0</td>\n",
              "      <td>1001.0</td>\n",
              "      <td>5.0900</td>\n",
              "      <td>4.0</td>\n",
              "    </tr>\n",
              "    <tr>\n",
              "      <th>12661</th>\n",
              "      <td>-121.42</td>\n",
              "      <td>38.51</td>\n",
              "      <td>15.0</td>\n",
              "      <td>7901.0</td>\n",
              "      <td>1422.0</td>\n",
              "      <td>4769.0</td>\n",
              "      <td>1418.0</td>\n",
              "      <td>2.8139</td>\n",
              "      <td>2.0</td>\n",
              "    </tr>\n",
              "    <tr>\n",
              "      <th>19263</th>\n",
              "      <td>-122.72</td>\n",
              "      <td>38.44</td>\n",
              "      <td>48.0</td>\n",
              "      <td>707.0</td>\n",
              "      <td>166.0</td>\n",
              "      <td>458.0</td>\n",
              "      <td>172.0</td>\n",
              "      <td>3.1797</td>\n",
              "      <td>3.0</td>\n",
              "    </tr>\n",
              "    <tr>\n",
              "      <th>19140</th>\n",
              "      <td>-122.70</td>\n",
              "      <td>38.31</td>\n",
              "      <td>14.0</td>\n",
              "      <td>3155.0</td>\n",
              "      <td>580.0</td>\n",
              "      <td>1208.0</td>\n",
              "      <td>501.0</td>\n",
              "      <td>4.1964</td>\n",
              "      <td>3.0</td>\n",
              "    </tr>\n",
              "    <tr>\n",
              "      <th>19773</th>\n",
              "      <td>-122.14</td>\n",
              "      <td>39.97</td>\n",
              "      <td>27.0</td>\n",
              "      <td>1079.0</td>\n",
              "      <td>222.0</td>\n",
              "      <td>625.0</td>\n",
              "      <td>197.0</td>\n",
              "      <td>3.1319</td>\n",
              "      <td>3.0</td>\n",
              "    </tr>\n",
              "  </tbody>\n",
              "</table>\n",
              "<p>16512 rows × 9 columns</p>\n",
              "</div>"
            ],
            "text/plain": [
              "       longitude  latitude  housing_median_age  total_rooms  total_bedrooms  \\\n",
              "12655    -121.46     38.52                29.0       3873.0           797.0   \n",
              "15502    -117.23     33.09                 7.0       5320.0           855.0   \n",
              "2908     -119.04     35.37                44.0       1618.0           310.0   \n",
              "14053    -117.13     32.75                24.0       1877.0           519.0   \n",
              "20496    -118.70     34.28                27.0       3536.0           646.0   \n",
              "...          ...       ...                 ...          ...             ...   \n",
              "15174    -117.07     33.03                14.0       6665.0          1231.0   \n",
              "12661    -121.42     38.51                15.0       7901.0          1422.0   \n",
              "19263    -122.72     38.44                48.0        707.0           166.0   \n",
              "19140    -122.70     38.31                14.0       3155.0           580.0   \n",
              "19773    -122.14     39.97                27.0       1079.0           222.0   \n",
              "\n",
              "       population  households  median_income  income_cat  \n",
              "12655      2237.0       706.0         2.1736         2.0  \n",
              "15502      2015.0       768.0         6.3373         5.0  \n",
              "2908        667.0       300.0         2.8750         2.0  \n",
              "14053       898.0       483.0         2.2264         2.0  \n",
              "20496      1837.0       580.0         4.4964         3.0  \n",
              "...           ...         ...            ...         ...  \n",
              "15174      2026.0      1001.0         5.0900         4.0  \n",
              "12661      4769.0      1418.0         2.8139         2.0  \n",
              "19263       458.0       172.0         3.1797         3.0  \n",
              "19140      1208.0       501.0         4.1964         3.0  \n",
              "19773       625.0       197.0         3.1319         3.0  \n",
              "\n",
              "[16512 rows x 9 columns]"
            ]
          },
          "execution_count": 80,
          "metadata": {},
          "output_type": "execute_result"
        }
      ],
      "source": [
        "housing_tr"
      ]
    },
    {
      "cell_type": "markdown",
      "metadata": {
        "id": "1dq-0n4YrrLd"
      },
      "source": [
        "# Handling text and categorical attributes\n",
        "In this dataset, there is just one text attribute: the `ocean_proximity`.\n"
      ]
    },
    {
      "cell_type": "code",
      "execution_count": 81,
      "metadata": {
        "id": "uABIk3JKm-fK"
      },
      "outputs": [],
      "source": [
        "housing_cat = housing[['ocean_proximity']]"
      ]
    },
    {
      "cell_type": "code",
      "execution_count": 82,
      "metadata": {
        "colab": {
          "base_uri": "https://localhost:8080/",
          "height": 363
        },
        "id": "DKGxxMr4sGr1",
        "outputId": "beaea39f-677e-4ed5-dc73-4b0a07801bb5"
      },
      "outputs": [
        {
          "data": {
            "text/html": [
              "<div>\n",
              "<style scoped>\n",
              "    .dataframe tbody tr th:only-of-type {\n",
              "        vertical-align: middle;\n",
              "    }\n",
              "\n",
              "    .dataframe tbody tr th {\n",
              "        vertical-align: top;\n",
              "    }\n",
              "\n",
              "    .dataframe thead th {\n",
              "        text-align: right;\n",
              "    }\n",
              "</style>\n",
              "<table border=\"1\" class=\"dataframe\">\n",
              "  <thead>\n",
              "    <tr style=\"text-align: right;\">\n",
              "      <th></th>\n",
              "      <th>ocean_proximity</th>\n",
              "    </tr>\n",
              "  </thead>\n",
              "  <tbody>\n",
              "    <tr>\n",
              "      <th>12655</th>\n",
              "      <td>INLAND</td>\n",
              "    </tr>\n",
              "    <tr>\n",
              "      <th>15502</th>\n",
              "      <td>NEAR OCEAN</td>\n",
              "    </tr>\n",
              "    <tr>\n",
              "      <th>2908</th>\n",
              "      <td>INLAND</td>\n",
              "    </tr>\n",
              "    <tr>\n",
              "      <th>14053</th>\n",
              "      <td>NEAR OCEAN</td>\n",
              "    </tr>\n",
              "    <tr>\n",
              "      <th>20496</th>\n",
              "      <td>&lt;1H OCEAN</td>\n",
              "    </tr>\n",
              "    <tr>\n",
              "      <th>1481</th>\n",
              "      <td>NEAR BAY</td>\n",
              "    </tr>\n",
              "    <tr>\n",
              "      <th>18125</th>\n",
              "      <td>&lt;1H OCEAN</td>\n",
              "    </tr>\n",
              "    <tr>\n",
              "      <th>5830</th>\n",
              "      <td>&lt;1H OCEAN</td>\n",
              "    </tr>\n",
              "    <tr>\n",
              "      <th>17989</th>\n",
              "      <td>&lt;1H OCEAN</td>\n",
              "    </tr>\n",
              "    <tr>\n",
              "      <th>4861</th>\n",
              "      <td>&lt;1H OCEAN</td>\n",
              "    </tr>\n",
              "  </tbody>\n",
              "</table>\n",
              "</div>"
            ],
            "text/plain": [
              "      ocean_proximity\n",
              "12655          INLAND\n",
              "15502      NEAR OCEAN\n",
              "2908           INLAND\n",
              "14053      NEAR OCEAN\n",
              "20496       <1H OCEAN\n",
              "1481         NEAR BAY\n",
              "18125       <1H OCEAN\n",
              "5830        <1H OCEAN\n",
              "17989       <1H OCEAN\n",
              "4861        <1H OCEAN"
            ]
          },
          "execution_count": 82,
          "metadata": {},
          "output_type": "execute_result"
        }
      ],
      "source": [
        "housing_cat.head(10)"
      ]
    },
    {
      "cell_type": "markdown",
      "metadata": {
        "id": "YfZ8_sT7sLqM"
      },
      "source": [
        "Each of values represents a category. This is called a categorical attribute. Most ML algorithms prefer to work with numbers, so it's a good idea to convert these categories from text to numbers by using the `OrdinalEncoder` class:"
      ]
    },
    {
      "cell_type": "code",
      "execution_count": 83,
      "metadata": {
        "id": "725ojPirsJA7"
      },
      "outputs": [],
      "source": [
        "from sklearn.preprocessing import OrdinalEncoder\n",
        "ordinal_encoder = OrdinalEncoder()"
      ]
    },
    {
      "cell_type": "code",
      "execution_count": 84,
      "metadata": {
        "colab": {
          "base_uri": "https://localhost:8080/"
        },
        "id": "1zypIfp1spVw",
        "outputId": "a5711b3e-171a-446c-8262-f23ccbc918f5"
      },
      "outputs": [
        {
          "data": {
            "text/plain": [
              "array([[1.],\n",
              "       [4.],\n",
              "       [1.],\n",
              "       [4.],\n",
              "       [0.],\n",
              "       [3.],\n",
              "       [0.],\n",
              "       [0.],\n",
              "       [0.],\n",
              "       [0.]])"
            ]
          },
          "execution_count": 84,
          "metadata": {},
          "output_type": "execute_result"
        }
      ],
      "source": [
        "housing_cat_encoded = ordinal_encoder.fit_transform(housing_cat)\n",
        "housing_cat_encoded[:10]"
      ]
    },
    {
      "cell_type": "code",
      "execution_count": 85,
      "metadata": {
        "colab": {
          "base_uri": "https://localhost:8080/"
        },
        "id": "t48aeqtZsy6K",
        "outputId": "cfd9e83d-9640-48ba-f022-1db7bb2b3f5c"
      },
      "outputs": [
        {
          "data": {
            "text/plain": [
              "[array(['<1H OCEAN', 'INLAND', 'ISLAND', 'NEAR BAY', 'NEAR OCEAN'],\n",
              "       dtype=object)]"
            ]
          },
          "execution_count": 85,
          "metadata": {},
          "output_type": "execute_result"
        }
      ],
      "source": [
        "ordinal_encoder.categories_"
      ]
    },
    {
      "cell_type": "markdown",
      "metadata": {
        "id": "Xkw6k2Rqtrku"
      },
      "source": [
        "One issue with this representation is that ML algorithms will assume that two nearby values are more similar than two distant values. This may be fine in some cases (e.g., for ordered categories such as “bad,” “average,” “good,” and “excellent”), but it is obviously not the case for the ocean_proximity column (for example, categories 0 and 4 are clearly more similar than categories 0 and 1). To fix this issue, a common solution is to create one binary attribute per category: one attribute equal to 1 when the category is \"<1H OCEAN\" (and 0 otherwise), another attribute equal to 1 when the category is “INLAND” (and 0 otherwise), and so on. This is called one-hot encoding , because only one attribute will be equal to 1 (hot), while the others will be 0 (cold). The new attributes are sometimes called dummy attributes. Scikit-Learn provides a OneHotEncoder class to convert categorical values into one-hot vectors:"
      ]
    },
    {
      "cell_type": "code",
      "execution_count": 86,
      "metadata": {
        "colab": {
          "base_uri": "https://localhost:8080/"
        },
        "id": "YwGyYfc-tT44",
        "outputId": "cb01676d-a55f-4596-fa55-396d4f9e33cb"
      },
      "outputs": [
        {
          "data": {
            "text/plain": [
              "<16512x5 sparse matrix of type '<class 'numpy.float64'>'\n",
              "\twith 16512 stored elements in Compressed Sparse Row format>"
            ]
          },
          "execution_count": 86,
          "metadata": {},
          "output_type": "execute_result"
        }
      ],
      "source": [
        "from sklearn.preprocessing import OneHotEncoder\n",
        "\n",
        "cat_encoder = OneHotEncoder()\n",
        "housing_cat_1hot = cat_encoder.fit_transform(housing_cat)\n",
        "housing_cat_1hot"
      ]
    },
    {
      "cell_type": "markdown",
      "metadata": {
        "id": "sEEmtilUuYGk"
      },
      "source": [
        "The output is a SciPy sparse matrix, instead of a NumPy array. After one-hot encoding, we get a matrix with thousands of columns, and the matrix is full of 0s except for a single 1 per row. Using up tons of memory mostly to store zeros would be very wasteful, so instead a sparse matrix only stores the location of the nonzero elements.\n",
        "\n",
        "It can ben used mostly like a normal 2D array, but it can also be converted into a (dense) NumPy array:"
      ]
    },
    {
      "cell_type": "code",
      "execution_count": 87,
      "metadata": {
        "colab": {
          "base_uri": "https://localhost:8080/"
        },
        "id": "-TOSYL4TuR5D",
        "outputId": "c5c12d9a-3535-424d-a758-96ce8760b90b"
      },
      "outputs": [
        {
          "data": {
            "text/plain": [
              "array([[0., 1., 0., 0., 0.],\n",
              "       [0., 0., 0., 0., 1.],\n",
              "       [0., 1., 0., 0., 0.],\n",
              "       ...,\n",
              "       [1., 0., 0., 0., 0.],\n",
              "       [1., 0., 0., 0., 0.],\n",
              "       [0., 1., 0., 0., 0.]])"
            ]
          },
          "execution_count": 87,
          "metadata": {},
          "output_type": "execute_result"
        }
      ],
      "source": [
        "housing_cat_1hot.toarray()"
      ]
    },
    {
      "cell_type": "code",
      "execution_count": 88,
      "metadata": {
        "colab": {
          "base_uri": "https://localhost:8080/"
        },
        "id": "UhG4pCoNvZpO",
        "outputId": "f4c6c11f-99c5-4777-c5ad-3cde0dd1f629"
      },
      "outputs": [
        {
          "data": {
            "text/plain": [
              "[array(['<1H OCEAN', 'INLAND', 'ISLAND', 'NEAR BAY', 'NEAR OCEAN'],\n",
              "       dtype=object)]"
            ]
          },
          "execution_count": 88,
          "metadata": {},
          "output_type": "execute_result"
        }
      ],
      "source": [
        "cat_encoder . categories_"
      ]
    },
    {
      "cell_type": "markdown",
      "metadata": {
        "id": "kLdPVIkTvt3B"
      },
      "source": [
        "# Custom Transformers\n",
        "Although Scikit-Learn provides many useful transformers, it will need to write its own for tasks such as custom cleanup operations or combining specific attributes. It will want your transformer to work seamlessly with Scikit-Learn functionalities (such as pipelines), and since Scikit-Learn relies on duck typing (not inheritance), all you need to do is create a class and implement three methods: fit() (returning self ), transform() , and fit_transform() . You can get the last one for free by simply adding TransformerMixin as a base class. If you add BaseEstimator as a base class (and avoid *args and **kargs in your constructor), you will also get two extra methods ( get_params() and set_params() ) that will be useful for automatic hyperparameter tuning.\n",
        "\n",
        "\n",
        "Let's create a custom transformer to add extra attributes:"
      ]
    },
    {
      "cell_type": "code",
      "execution_count": 89,
      "metadata": {
        "id": "a9rpUZvvvgMA"
      },
      "outputs": [],
      "source": [
        "from sklearn.base import BaseEstimator, TransformerMixin\n",
        "\n",
        "# column index\n",
        "rooms_ix, bedrooms_ix, population_ix, households_ix = 3, 4, 5, 6\n",
        "\n",
        "class CombinedAttributesAdder(BaseEstimator, TransformerMixin):\n",
        "    def __init__(self, add_bedrooms_per_room=True): # no *args or **kargs\n",
        "        self.add_bedrooms_per_room = add_bedrooms_per_room\n",
        "    def fit(self, X, y=None):\n",
        "        return self  # nothing else to do\n",
        "    def transform(self, X):\n",
        "        rooms_per_household = X[:, rooms_ix] / X[:, households_ix]\n",
        "        population_per_household = X[:, population_ix] / X[:, households_ix]\n",
        "        if self.add_bedrooms_per_room:\n",
        "            bedrooms_per_room = X[:, bedrooms_ix] / X[:, rooms_ix]\n",
        "            return np.c_[X, rooms_per_household, population_per_household,\n",
        "                         bedrooms_per_room]\n",
        "        else:\n",
        "            return np.c_[X, rooms_per_household, population_per_household]\n",
        "\n",
        "attr_adder = CombinedAttributesAdder(add_bedrooms_per_room=False)\n",
        "housing_extra_attribs = attr_adder.transform(housing.values)"
      ]
    },
    {
      "cell_type": "markdown",
      "metadata": {
        "id": "Fzme34i1w4ud"
      },
      "source": [
        "This hyperparameter will allow you to easily find out whether adding this attribute helps the Machine Learning algorithms or not. More generally, you can add a hyperparameter to gate any data preparation step that you are not 100% sure about. The more you automate these data preparation steps, the more combinations you can automatically try out, making it much more likely that you will find a great combination (and saving you a lot of time)."
      ]
    },
    {
      "cell_type": "markdown",
      "metadata": {
        "id": "f1csEhr5yQbM"
      },
      "source": [
        "Note that I hard coded the indices (3, 4, 5, 6) for concision and clarity in the book, but it would be much cleaner to get them dynamically, like this:"
      ]
    },
    {
      "cell_type": "code",
      "execution_count": 90,
      "metadata": {
        "id": "dRJ864RYxr1b"
      },
      "outputs": [],
      "source": [
        "col_names = \"total_rooms\", \"total_bedrooms\", \"population\", \"households\"\n",
        "rooms_ix, bedrooms_ix, population_ix, households_ix = [\n",
        "    housing.columns.get_loc(c) for c in col_names] # get the column indices"
      ]
    },
    {
      "cell_type": "markdown",
      "metadata": {
        "id": "FPVcO8_-xw2U"
      },
      "source": [
        "Also, housing_extra_attribs is a NumPy array, we've lost the column names (unfortunately, that's a problem with Scikit-Learn). To recover a DataFrame, you could run this:"
      ]
    },
    {
      "cell_type": "code",
      "execution_count": 91,
      "metadata": {
        "colab": {
          "base_uri": "https://localhost:8080/",
          "height": 270
        },
        "id": "n8vJrqEZxvKN",
        "outputId": "b658721a-7a51-4473-e213-5799d57a84dc"
      },
      "outputs": [
        {
          "data": {
            "text/html": [
              "<div>\n",
              "<style scoped>\n",
              "    .dataframe tbody tr th:only-of-type {\n",
              "        vertical-align: middle;\n",
              "    }\n",
              "\n",
              "    .dataframe tbody tr th {\n",
              "        vertical-align: top;\n",
              "    }\n",
              "\n",
              "    .dataframe thead th {\n",
              "        text-align: right;\n",
              "    }\n",
              "</style>\n",
              "<table border=\"1\" class=\"dataframe\">\n",
              "  <thead>\n",
              "    <tr style=\"text-align: right;\">\n",
              "      <th></th>\n",
              "      <th>longitude</th>\n",
              "      <th>latitude</th>\n",
              "      <th>housing_median_age</th>\n",
              "      <th>total_rooms</th>\n",
              "      <th>total_bedrooms</th>\n",
              "      <th>population</th>\n",
              "      <th>households</th>\n",
              "      <th>median_income</th>\n",
              "      <th>ocean_proximity</th>\n",
              "      <th>income_cat</th>\n",
              "      <th>rooms_per_household</th>\n",
              "      <th>population_per_household</th>\n",
              "    </tr>\n",
              "  </thead>\n",
              "  <tbody>\n",
              "    <tr>\n",
              "      <th>12655</th>\n",
              "      <td>-121.46</td>\n",
              "      <td>38.52</td>\n",
              "      <td>29.0</td>\n",
              "      <td>3873.0</td>\n",
              "      <td>797.0</td>\n",
              "      <td>2237.0</td>\n",
              "      <td>706.0</td>\n",
              "      <td>2.1736</td>\n",
              "      <td>INLAND</td>\n",
              "      <td>2</td>\n",
              "      <td>5.485836</td>\n",
              "      <td>3.168555</td>\n",
              "    </tr>\n",
              "    <tr>\n",
              "      <th>15502</th>\n",
              "      <td>-117.23</td>\n",
              "      <td>33.09</td>\n",
              "      <td>7.0</td>\n",
              "      <td>5320.0</td>\n",
              "      <td>855.0</td>\n",
              "      <td>2015.0</td>\n",
              "      <td>768.0</td>\n",
              "      <td>6.3373</td>\n",
              "      <td>NEAR OCEAN</td>\n",
              "      <td>5</td>\n",
              "      <td>6.927083</td>\n",
              "      <td>2.623698</td>\n",
              "    </tr>\n",
              "    <tr>\n",
              "      <th>2908</th>\n",
              "      <td>-119.04</td>\n",
              "      <td>35.37</td>\n",
              "      <td>44.0</td>\n",
              "      <td>1618.0</td>\n",
              "      <td>310.0</td>\n",
              "      <td>667.0</td>\n",
              "      <td>300.0</td>\n",
              "      <td>2.875</td>\n",
              "      <td>INLAND</td>\n",
              "      <td>2</td>\n",
              "      <td>5.393333</td>\n",
              "      <td>2.223333</td>\n",
              "    </tr>\n",
              "    <tr>\n",
              "      <th>14053</th>\n",
              "      <td>-117.13</td>\n",
              "      <td>32.75</td>\n",
              "      <td>24.0</td>\n",
              "      <td>1877.0</td>\n",
              "      <td>519.0</td>\n",
              "      <td>898.0</td>\n",
              "      <td>483.0</td>\n",
              "      <td>2.2264</td>\n",
              "      <td>NEAR OCEAN</td>\n",
              "      <td>2</td>\n",
              "      <td>3.886128</td>\n",
              "      <td>1.859213</td>\n",
              "    </tr>\n",
              "    <tr>\n",
              "      <th>20496</th>\n",
              "      <td>-118.7</td>\n",
              "      <td>34.28</td>\n",
              "      <td>27.0</td>\n",
              "      <td>3536.0</td>\n",
              "      <td>646.0</td>\n",
              "      <td>1837.0</td>\n",
              "      <td>580.0</td>\n",
              "      <td>4.4964</td>\n",
              "      <td>&lt;1H OCEAN</td>\n",
              "      <td>3</td>\n",
              "      <td>6.096552</td>\n",
              "      <td>3.167241</td>\n",
              "    </tr>\n",
              "  </tbody>\n",
              "</table>\n",
              "</div>"
            ],
            "text/plain": [
              "      longitude latitude housing_median_age total_rooms total_bedrooms  \\\n",
              "12655   -121.46    38.52               29.0      3873.0          797.0   \n",
              "15502   -117.23    33.09                7.0      5320.0          855.0   \n",
              "2908    -119.04    35.37               44.0      1618.0          310.0   \n",
              "14053   -117.13    32.75               24.0      1877.0          519.0   \n",
              "20496    -118.7    34.28               27.0      3536.0          646.0   \n",
              "\n",
              "      population households median_income ocean_proximity income_cat  \\\n",
              "12655     2237.0      706.0        2.1736          INLAND          2   \n",
              "15502     2015.0      768.0        6.3373      NEAR OCEAN          5   \n",
              "2908       667.0      300.0         2.875          INLAND          2   \n",
              "14053      898.0      483.0        2.2264      NEAR OCEAN          2   \n",
              "20496     1837.0      580.0        4.4964       <1H OCEAN          3   \n",
              "\n",
              "      rooms_per_household population_per_household  \n",
              "12655            5.485836                 3.168555  \n",
              "15502            6.927083                 2.623698  \n",
              "2908             5.393333                 2.223333  \n",
              "14053            3.886128                 1.859213  \n",
              "20496            6.096552                 3.167241  "
            ]
          },
          "execution_count": 91,
          "metadata": {},
          "output_type": "execute_result"
        }
      ],
      "source": [
        "housing_extra_attribs = pd.DataFrame(\n",
        "    housing_extra_attribs,\n",
        "    columns=list(housing.columns)+[\"rooms_per_household\", \"population_per_household\"],\n",
        "    index=housing.index)\n",
        "housing_extra_attribs.head()"
      ]
    },
    {
      "cell_type": "markdown",
      "metadata": {
        "id": "GZFNgUr-xXvn"
      },
      "source": [
        "# Feature Scaling\n",
        "With few exceptions, Machine Learning algorithms don’t perform well when the input numerical attributes have very different scales.\n",
        "\n",
        "There are two common ways to get all attributes to have the same scale: min-max scaling and standardization.\n",
        "\n",
        "* Min-max scaling (many people call this ***normalization*** ) is the simplest: values are shifted and rescaled so that they end up ranging from 0 to 1. We do this by subtracting the min value and dividing by the max minus the min. Scikit-Learn provides a transformer called MinMaxScaler for this. It has a feature_range hyperparameter that lets you change the range if, for some reason, you don’t want 0–1.\n",
        "* Standardization is different: first it subtracts the mean value (so standardized values always have a zero mean), and then it divides by the standard deviation so that the resulting distribution has unit variance. Unlike min-max scaling, standardization does not bound values to a specific range, which may be a problem for some algorithms (e.g., neural networks often expect an input value ranging from 0 to 1). However, **standardization is much less affected by outliers.** Scikit-Learn provides a transformer called `StandardScaler` for standardization .\n",
        "\n",
        "**WARNING!**\n",
        "As with all the transformations, it is important to fit the scalers to the training data only, not to the full dataset (including the test set). Only then can you use them to transform the training set and the test set (and new data)."
      ]
    },
    {
      "cell_type": "markdown",
      "metadata": {
        "id": "HsiUt_0Ezlur"
      },
      "source": [
        "#Transformation Pipelines\n",
        "As it's seen, there are many data transformation steps that need to be executed in the right order. Fortunately, Scikit-Learn provides the Pipeline class to help with such sequences of transformations."
      ]
    },
    {
      "cell_type": "code",
      "execution_count": 92,
      "metadata": {
        "id": "3HHejwv2zlEp"
      },
      "outputs": [],
      "source": [
        "# Small pipeline for the numerical attributes\n",
        "from sklearn.pipeline import Pipeline\n",
        "from sklearn.preprocessing import StandardScaler\n",
        "\n",
        "num_pipeline = Pipeline([\n",
        "        ('imputer', SimpleImputer(strategy=\"median\")),\n",
        "        ('attribs_adder', CombinedAttributesAdder()),\n",
        "        ('std_scaler', StandardScaler()),\n",
        "    ])\n",
        "\n",
        "housing_num_tr = num_pipeline.fit_transform(housing_num)"
      ]
    },
    {
      "cell_type": "markdown",
      "metadata": {
        "id": "AiitMXrq0CdZ"
      },
      "source": [
        "The `Pipeline` constructor takes a list of name/estimator pairs defining a sequence of steps. **All but the last estimator must be transformers** (i.e., they must have a `fit_transform()` method). The names can be anything you like (as long as they are unique and don’t contain double underscores, __ ); they will come in handy later for hyperparameter tuning.\n",
        "\n",
        "When you call the pipeline’s `fit()` method, it calls fit_transform() `Inline code` sequentially on all transformers, passing the output of each call as the parameter to the next call until it reaches the final estimator, for which it calls the `fit()` method.\n",
        "\n",
        "The pipeline exposes the same methods as the final estimator. In this example, the last estimator is a `StandardScaler` , which is a transformer, so the pipeline has a `transform()` method that applies all the transforms to the data in sequence (and of course also a `fit_transform()` method, which is the one we used)."
      ]
    },
    {
      "cell_type": "code",
      "execution_count": 93,
      "metadata": {
        "colab": {
          "base_uri": "https://localhost:8080/"
        },
        "id": "hW1hdqUcz344",
        "outputId": "d4eeee3b-f16a-4bb5-dfd7-2ebcddc73339"
      },
      "outputs": [
        {
          "data": {
            "text/plain": [
              "array([[-0.94135046,  1.34743822,  0.02756357, ...,  0.01739526,\n",
              "         0.00622264, -0.12112176],\n",
              "       [ 1.17178212, -1.19243966, -1.72201763, ...,  0.56925554,\n",
              "        -0.04081077, -0.81086696],\n",
              "       [ 0.26758118, -0.1259716 ,  1.22045984, ..., -0.01802432,\n",
              "        -0.07537122, -0.33827252],\n",
              "       ...,\n",
              "       [-1.5707942 ,  1.31001828,  1.53856552, ..., -0.5092404 ,\n",
              "        -0.03743619,  0.32286937],\n",
              "       [-1.56080303,  1.2492109 , -1.1653327 , ...,  0.32814891,\n",
              "        -0.05915604, -0.45702273],\n",
              "       [-1.28105026,  2.02567448, -0.13148926, ...,  0.01407228,\n",
              "         0.00657083, -0.12169672]])"
            ]
          },
          "execution_count": 93,
          "metadata": {},
          "output_type": "execute_result"
        }
      ],
      "source": [
        "housing_num_tr"
      ]
    },
    {
      "cell_type": "markdown",
      "metadata": {
        "id": "E-NA_9pK1lr-"
      },
      "source": [
        "Having a single transformer able to handle all columns would be more convenient. Fortunately, Sickit-Learn introduced the `ColumnTransformer` for this purpose."
      ]
    },
    {
      "cell_type": "code",
      "execution_count": 94,
      "metadata": {
        "id": "KRkoNs-W1ft4"
      },
      "outputs": [],
      "source": [
        "from sklearn.compose import ColumnTransformer\n",
        "\n",
        "num_attribs = list(housing_num) # get the list of numerical column names\n",
        "cat_attribs = [\"ocean_proximity\"] # list of categorical column names\n",
        "\n",
        "full_pipeline = ColumnTransformer([\n",
        "        (\"num\", num_pipeline, num_attribs), # tuple: name, a transformer, and a list of names (or indices), returns a dense matrix\n",
        "        (\"cat\", OneHotEncoder(), cat_attribs), # OneHotEncoder retunrs a sparse matrix\n",
        "    ])\n",
        "\n",
        "housing_prepared = full_pipeline.fit_transform(housing) # ColumnTransformer applies each transformer to the appropiate columns and concatenates the outputs along the second axis"
      ]
    },
    {
      "cell_type": "code",
      "execution_count": 95,
      "metadata": {
        "colab": {
          "base_uri": "https://localhost:8080/"
        },
        "id": "Z3xI3tjK5sHW",
        "outputId": "a51e6f6b-a350-4dab-83ee-d17001fe31c5"
      },
      "outputs": [
        {
          "data": {
            "text/plain": [
              "array([[-0.94135046,  1.34743822,  0.02756357, ...,  0.        ,\n",
              "         0.        ,  0.        ],\n",
              "       [ 1.17178212, -1.19243966, -1.72201763, ...,  0.        ,\n",
              "         0.        ,  1.        ],\n",
              "       [ 0.26758118, -0.1259716 ,  1.22045984, ...,  0.        ,\n",
              "         0.        ,  0.        ],\n",
              "       ...,\n",
              "       [-1.5707942 ,  1.31001828,  1.53856552, ...,  0.        ,\n",
              "         0.        ,  0.        ],\n",
              "       [-1.56080303,  1.2492109 , -1.1653327 , ...,  0.        ,\n",
              "         0.        ,  0.        ],\n",
              "       [-1.28105026,  2.02567448, -0.13148926, ...,  0.        ,\n",
              "         0.        ,  0.        ]])"
            ]
          },
          "execution_count": 95,
          "metadata": {},
          "output_type": "execute_result"
        }
      ],
      "source": [
        "housing_prepared"
      ]
    },
    {
      "cell_type": "code",
      "execution_count": 96,
      "metadata": {
        "colab": {
          "base_uri": "https://localhost:8080/"
        },
        "id": "4_Yaf7dw5vhX",
        "outputId": "7a3bb165-58cd-4bd4-8760-c12acdee3384"
      },
      "outputs": [
        {
          "data": {
            "text/plain": [
              "(16512, 17)"
            ]
          },
          "execution_count": 96,
          "metadata": {},
          "output_type": "execute_result"
        }
      ],
      "source": [
        "housing_prepared.shape"
      ]
    },
    {
      "cell_type": "markdown",
      "metadata": {
        "id": "CM6jKio3370F"
      },
      "source": [
        "This is how we have a preprocessing pipeline that takes the full housing data and applies the appropriate transformations to each column."
      ]
    },
    {
      "cell_type": "markdown",
      "metadata": {
        "id": "15uwbx8k5j4J"
      },
      "source": [
        "**TIP**\n",
        "\n",
        "Instead of using a transformer, you can specify the string \"`drop`\" if you want the columns to be dropped, or you can specify \"`passthrough`\" if you want the columns to be left untouched. By default, the remaining columns (i.e., the ones that were not listed) will be dropped, but you can set the remainder hyperparameter to any transformer (or to \"`passthrough`\") if you want these columns to be handled differently."
      ]
    },
    {
      "cell_type": "markdown",
      "metadata": {
        "id": "8gn0MrMv6zCJ"
      },
      "source": [
        "# Select and train a model\n"
      ]
    },
    {
      "cell_type": "markdown",
      "metadata": {
        "id": "SWUWC9K1BKR3"
      },
      "source": [
        "## Train a Linear Regression model:"
      ]
    },
    {
      "cell_type": "code",
      "execution_count": 97,
      "metadata": {
        "colab": {
          "base_uri": "https://localhost:8080/"
        },
        "id": "IjmbI8vM7Tl2",
        "outputId": "824f2fdb-79d4-481f-daa3-8c547f8bbc8c"
      },
      "outputs": [
        {
          "data": {
            "text/plain": [
              "array([[-0.94135046,  1.34743822,  0.02756357, ...,  0.        ,\n",
              "         0.        ,  0.        ],\n",
              "       [ 1.17178212, -1.19243966, -1.72201763, ...,  0.        ,\n",
              "         0.        ,  1.        ],\n",
              "       [ 0.26758118, -0.1259716 ,  1.22045984, ...,  0.        ,\n",
              "         0.        ,  0.        ],\n",
              "       ...,\n",
              "       [-1.5707942 ,  1.31001828,  1.53856552, ...,  0.        ,\n",
              "         0.        ,  0.        ],\n",
              "       [-1.56080303,  1.2492109 , -1.1653327 , ...,  0.        ,\n",
              "         0.        ,  0.        ],\n",
              "       [-1.28105026,  2.02567448, -0.13148926, ...,  0.        ,\n",
              "         0.        ,  0.        ]])"
            ]
          },
          "execution_count": 97,
          "metadata": {},
          "output_type": "execute_result"
        }
      ],
      "source": [
        "housing_prepared"
      ]
    },
    {
      "cell_type": "code",
      "execution_count": 98,
      "metadata": {
        "colab": {
          "base_uri": "https://localhost:8080/"
        },
        "id": "DopJNct07Wdu",
        "outputId": "399c6ea9-aa39-438c-f2d4-515911a13bc8"
      },
      "outputs": [
        {
          "data": {
            "text/plain": [
              "12655     72100.0\n",
              "15502    279600.0\n",
              "2908      82700.0\n",
              "14053    112500.0\n",
              "20496    238300.0\n",
              "           ...   \n",
              "15174    268500.0\n",
              "12661     90400.0\n",
              "19263    140400.0\n",
              "19140    258100.0\n",
              "19773     62700.0\n",
              "Name: median_house_value, Length: 16512, dtype: float64"
            ]
          },
          "execution_count": 98,
          "metadata": {},
          "output_type": "execute_result"
        }
      ],
      "source": [
        "housing_labels"
      ]
    },
    {
      "cell_type": "code",
      "execution_count": 99,
      "metadata": {
        "colab": {
          "base_uri": "https://localhost:8080/",
          "height": 75
        },
        "id": "1n_Vcf8x36dJ",
        "outputId": "f333b1cd-d512-4c8b-9cde-3bb038cc8f98"
      },
      "outputs": [
        {
          "data": {
            "text/html": [
              "<style>#sk-container-id-2 {color: black;background-color: white;}#sk-container-id-2 pre{padding: 0;}#sk-container-id-2 div.sk-toggleable {background-color: white;}#sk-container-id-2 label.sk-toggleable__label {cursor: pointer;display: block;width: 100%;margin-bottom: 0;padding: 0.3em;box-sizing: border-box;text-align: center;}#sk-container-id-2 label.sk-toggleable__label-arrow:before {content: \"▸\";float: left;margin-right: 0.25em;color: #696969;}#sk-container-id-2 label.sk-toggleable__label-arrow:hover:before {color: black;}#sk-container-id-2 div.sk-estimator:hover label.sk-toggleable__label-arrow:before {color: black;}#sk-container-id-2 div.sk-toggleable__content {max-height: 0;max-width: 0;overflow: hidden;text-align: left;background-color: #f0f8ff;}#sk-container-id-2 div.sk-toggleable__content pre {margin: 0.2em;color: black;border-radius: 0.25em;background-color: #f0f8ff;}#sk-container-id-2 input.sk-toggleable__control:checked~div.sk-toggleable__content {max-height: 200px;max-width: 100%;overflow: auto;}#sk-container-id-2 input.sk-toggleable__control:checked~label.sk-toggleable__label-arrow:before {content: \"▾\";}#sk-container-id-2 div.sk-estimator input.sk-toggleable__control:checked~label.sk-toggleable__label {background-color: #d4ebff;}#sk-container-id-2 div.sk-label input.sk-toggleable__control:checked~label.sk-toggleable__label {background-color: #d4ebff;}#sk-container-id-2 input.sk-hidden--visually {border: 0;clip: rect(1px 1px 1px 1px);clip: rect(1px, 1px, 1px, 1px);height: 1px;margin: -1px;overflow: hidden;padding: 0;position: absolute;width: 1px;}#sk-container-id-2 div.sk-estimator {font-family: monospace;background-color: #f0f8ff;border: 1px dotted black;border-radius: 0.25em;box-sizing: border-box;margin-bottom: 0.5em;}#sk-container-id-2 div.sk-estimator:hover {background-color: #d4ebff;}#sk-container-id-2 div.sk-parallel-item::after {content: \"\";width: 100%;border-bottom: 1px solid gray;flex-grow: 1;}#sk-container-id-2 div.sk-label:hover label.sk-toggleable__label {background-color: #d4ebff;}#sk-container-id-2 div.sk-serial::before {content: \"\";position: absolute;border-left: 1px solid gray;box-sizing: border-box;top: 0;bottom: 0;left: 50%;z-index: 0;}#sk-container-id-2 div.sk-serial {display: flex;flex-direction: column;align-items: center;background-color: white;padding-right: 0.2em;padding-left: 0.2em;position: relative;}#sk-container-id-2 div.sk-item {position: relative;z-index: 1;}#sk-container-id-2 div.sk-parallel {display: flex;align-items: stretch;justify-content: center;background-color: white;position: relative;}#sk-container-id-2 div.sk-item::before, #sk-container-id-2 div.sk-parallel-item::before {content: \"\";position: absolute;border-left: 1px solid gray;box-sizing: border-box;top: 0;bottom: 0;left: 50%;z-index: -1;}#sk-container-id-2 div.sk-parallel-item {display: flex;flex-direction: column;z-index: 1;position: relative;background-color: white;}#sk-container-id-2 div.sk-parallel-item:first-child::after {align-self: flex-end;width: 50%;}#sk-container-id-2 div.sk-parallel-item:last-child::after {align-self: flex-start;width: 50%;}#sk-container-id-2 div.sk-parallel-item:only-child::after {width: 0;}#sk-container-id-2 div.sk-dashed-wrapped {border: 1px dashed gray;margin: 0 0.4em 0.5em 0.4em;box-sizing: border-box;padding-bottom: 0.4em;background-color: white;}#sk-container-id-2 div.sk-label label {font-family: monospace;font-weight: bold;display: inline-block;line-height: 1.2em;}#sk-container-id-2 div.sk-label-container {text-align: center;}#sk-container-id-2 div.sk-container {/* jupyter's `normalize.less` sets `[hidden] { display: none; }` but bootstrap.min.css set `[hidden] { display: none !important; }` so we also need the `!important` here to be able to override the default hidden behavior on the sphinx rendered scikit-learn.org. See: https://github.com/scikit-learn/scikit-learn/issues/21755 */display: inline-block !important;position: relative;}#sk-container-id-2 div.sk-text-repr-fallback {display: none;}</style><div id=\"sk-container-id-2\" class=\"sk-top-container\"><div class=\"sk-text-repr-fallback\"><pre>LinearRegression()</pre><b>In a Jupyter environment, please rerun this cell to show the HTML representation or trust the notebook. <br />On GitHub, the HTML representation is unable to render, please try loading this page with nbviewer.org.</b></div><div class=\"sk-container\" hidden><div class=\"sk-item\"><div class=\"sk-estimator sk-toggleable\"><input class=\"sk-toggleable__control sk-hidden--visually\" id=\"sk-estimator-id-2\" type=\"checkbox\" checked><label for=\"sk-estimator-id-2\" class=\"sk-toggleable__label sk-toggleable__label-arrow\">LinearRegression</label><div class=\"sk-toggleable__content\"><pre>LinearRegression()</pre></div></div></div></div></div>"
            ],
            "text/plain": [
              "LinearRegression()"
            ]
          },
          "execution_count": 99,
          "metadata": {},
          "output_type": "execute_result"
        }
      ],
      "source": [
        "from sklearn.linear_model import LinearRegression\n",
        "\n",
        "lin_reg = LinearRegression()\n",
        "lin_reg.fit(housing_prepared, housing_labels)"
      ]
    },
    {
      "cell_type": "code",
      "execution_count": 100,
      "metadata": {
        "colab": {
          "base_uri": "https://localhost:8080/"
        },
        "id": "XJ-g8r265uhe",
        "outputId": "a6638dba-f79a-43cf-c822-05f9bfba7c1f"
      },
      "outputs": [
        {
          "name": "stdout",
          "output_type": "stream",
          "text": [
            "Predictions: [ 83811.08312039 314388.27147935 145641.85902864 183704.64921202\n",
            " 238729.66725745]\n"
          ]
        }
      ],
      "source": [
        "# let's try the full preprocessing pipeline on a few training instances\n",
        "some_data = housing.iloc[:5]\n",
        "some_labels = housing_labels.iloc[:5]\n",
        "some_data_prepared = full_pipeline.transform(some_data)\n",
        "\n",
        "print(\"Predictions:\", lin_reg.predict(some_data_prepared))"
      ]
    },
    {
      "cell_type": "markdown",
      "metadata": {
        "id": "1ojPOWYj7pya"
      },
      "source": [
        "Compare against the actual values:"
      ]
    },
    {
      "cell_type": "code",
      "execution_count": 101,
      "metadata": {
        "colab": {
          "base_uri": "https://localhost:8080/"
        },
        "id": "5dlwZY4t7luP",
        "outputId": "663fc16a-2431-40e6-cdb0-b4f8969721c6"
      },
      "outputs": [
        {
          "name": "stdout",
          "output_type": "stream",
          "text": [
            "Labels: [72100.0, 279600.0, 82700.0, 112500.0, 238300.0]\n"
          ]
        }
      ],
      "source": [
        "print(\"Labels:\", list(some_labels))"
      ]
    },
    {
      "cell_type": "markdown",
      "metadata": {
        "id": "98Q9F1N98PsV"
      },
      "source": [
        "The predictions are not exactly accurate (e.g., the first prediction is off by close to 40%!). Let’s measure this regression model’s RMSE on the whole training set using Scikit-Learn’s `mean_squared_error()` function:"
      ]
    },
    {
      "cell_type": "code",
      "execution_count": 102,
      "metadata": {
        "colab": {
          "base_uri": "https://localhost:8080/"
        },
        "id": "U27ecwP074WF",
        "outputId": "b26bc805-3938-4bf8-c654-7403d83f50d1"
      },
      "outputs": [
        {
          "data": {
            "text/plain": [
              "68376.51254853733"
            ]
          },
          "execution_count": 102,
          "metadata": {},
          "output_type": "execute_result"
        }
      ],
      "source": [
        "from sklearn.metrics import mean_squared_error\n",
        "\n",
        "housing_predictions = lin_reg.predict(housing_prepared)\n",
        "lin_mse = mean_squared_error(housing_labels, housing_predictions)\n",
        "lin_rmse = np.sqrt(lin_mse)\n",
        "lin_rmse"
      ]
    },
    {
      "cell_type": "markdown",
      "metadata": {
        "id": "_nbiA54q8sjL"
      },
      "source": [
        "Most districts’ **median_housing_values** range between \\$120,000 and \\$265,000, so a typical prediction error of \\$68,628 is not very satisfying. **This is an example of a model underfitting the training data.**\n",
        "\n",
        "When this happens it can mean that the features do not provide enough information to make good predictions, or that the model is not powerful enough.\n",
        "\n",
        "The main ways to fix underfitting are to select a more powerful model, to feed the training algorithm with better features, or to reduce the constraints on the model. This model is not regularized, which rules out the last option. You could try to add more features (e.g., the log of the population), but first let’s try a more complex model to see how it does.\n"
      ]
    },
    {
      "cell_type": "markdown",
      "metadata": {
        "id": "5rAIPdgBBv_2"
      },
      "source": [
        "**Note**: since Scikit-Learn 0.22, you can get the RMSE directly by calling the mean_squared_error() function with squared=False"
      ]
    },
    {
      "cell_type": "code",
      "execution_count": 103,
      "metadata": {
        "colab": {
          "base_uri": "https://localhost:8080/"
        },
        "id": "35QnE4HSBt2Q",
        "outputId": "45ba2052-5ebc-49f7-b62f-2472562bbf59"
      },
      "outputs": [
        {
          "data": {
            "text/plain": [
              "49507.34233776102"
            ]
          },
          "execution_count": 103,
          "metadata": {},
          "output_type": "execute_result"
        }
      ],
      "source": [
        "from sklearn.metrics import mean_absolute_error\n",
        "\n",
        "lin_mae = mean_absolute_error(housing_labels, housing_predictions)\n",
        "lin_mae"
      ]
    },
    {
      "cell_type": "markdown",
      "metadata": {
        "id": "Xqhtq5TnCL_8"
      },
      "source": [
        "## Train a DecisionTreeRegressor"
      ]
    },
    {
      "cell_type": "code",
      "execution_count": 104,
      "metadata": {
        "colab": {
          "base_uri": "https://localhost:8080/",
          "height": 75
        },
        "id": "wM_lMoND8hTP",
        "outputId": "da746d19-fd80-4a85-cf55-6bd454e595a8"
      },
      "outputs": [
        {
          "data": {
            "text/html": [
              "<style>#sk-container-id-3 {color: black;background-color: white;}#sk-container-id-3 pre{padding: 0;}#sk-container-id-3 div.sk-toggleable {background-color: white;}#sk-container-id-3 label.sk-toggleable__label {cursor: pointer;display: block;width: 100%;margin-bottom: 0;padding: 0.3em;box-sizing: border-box;text-align: center;}#sk-container-id-3 label.sk-toggleable__label-arrow:before {content: \"▸\";float: left;margin-right: 0.25em;color: #696969;}#sk-container-id-3 label.sk-toggleable__label-arrow:hover:before {color: black;}#sk-container-id-3 div.sk-estimator:hover label.sk-toggleable__label-arrow:before {color: black;}#sk-container-id-3 div.sk-toggleable__content {max-height: 0;max-width: 0;overflow: hidden;text-align: left;background-color: #f0f8ff;}#sk-container-id-3 div.sk-toggleable__content pre {margin: 0.2em;color: black;border-radius: 0.25em;background-color: #f0f8ff;}#sk-container-id-3 input.sk-toggleable__control:checked~div.sk-toggleable__content {max-height: 200px;max-width: 100%;overflow: auto;}#sk-container-id-3 input.sk-toggleable__control:checked~label.sk-toggleable__label-arrow:before {content: \"▾\";}#sk-container-id-3 div.sk-estimator input.sk-toggleable__control:checked~label.sk-toggleable__label {background-color: #d4ebff;}#sk-container-id-3 div.sk-label input.sk-toggleable__control:checked~label.sk-toggleable__label {background-color: #d4ebff;}#sk-container-id-3 input.sk-hidden--visually {border: 0;clip: rect(1px 1px 1px 1px);clip: rect(1px, 1px, 1px, 1px);height: 1px;margin: -1px;overflow: hidden;padding: 0;position: absolute;width: 1px;}#sk-container-id-3 div.sk-estimator {font-family: monospace;background-color: #f0f8ff;border: 1px dotted black;border-radius: 0.25em;box-sizing: border-box;margin-bottom: 0.5em;}#sk-container-id-3 div.sk-estimator:hover {background-color: #d4ebff;}#sk-container-id-3 div.sk-parallel-item::after {content: \"\";width: 100%;border-bottom: 1px solid gray;flex-grow: 1;}#sk-container-id-3 div.sk-label:hover label.sk-toggleable__label {background-color: #d4ebff;}#sk-container-id-3 div.sk-serial::before {content: \"\";position: absolute;border-left: 1px solid gray;box-sizing: border-box;top: 0;bottom: 0;left: 50%;z-index: 0;}#sk-container-id-3 div.sk-serial {display: flex;flex-direction: column;align-items: center;background-color: white;padding-right: 0.2em;padding-left: 0.2em;position: relative;}#sk-container-id-3 div.sk-item {position: relative;z-index: 1;}#sk-container-id-3 div.sk-parallel {display: flex;align-items: stretch;justify-content: center;background-color: white;position: relative;}#sk-container-id-3 div.sk-item::before, #sk-container-id-3 div.sk-parallel-item::before {content: \"\";position: absolute;border-left: 1px solid gray;box-sizing: border-box;top: 0;bottom: 0;left: 50%;z-index: -1;}#sk-container-id-3 div.sk-parallel-item {display: flex;flex-direction: column;z-index: 1;position: relative;background-color: white;}#sk-container-id-3 div.sk-parallel-item:first-child::after {align-self: flex-end;width: 50%;}#sk-container-id-3 div.sk-parallel-item:last-child::after {align-self: flex-start;width: 50%;}#sk-container-id-3 div.sk-parallel-item:only-child::after {width: 0;}#sk-container-id-3 div.sk-dashed-wrapped {border: 1px dashed gray;margin: 0 0.4em 0.5em 0.4em;box-sizing: border-box;padding-bottom: 0.4em;background-color: white;}#sk-container-id-3 div.sk-label label {font-family: monospace;font-weight: bold;display: inline-block;line-height: 1.2em;}#sk-container-id-3 div.sk-label-container {text-align: center;}#sk-container-id-3 div.sk-container {/* jupyter's `normalize.less` sets `[hidden] { display: none; }` but bootstrap.min.css set `[hidden] { display: none !important; }` so we also need the `!important` here to be able to override the default hidden behavior on the sphinx rendered scikit-learn.org. See: https://github.com/scikit-learn/scikit-learn/issues/21755 */display: inline-block !important;position: relative;}#sk-container-id-3 div.sk-text-repr-fallback {display: none;}</style><div id=\"sk-container-id-3\" class=\"sk-top-container\"><div class=\"sk-text-repr-fallback\"><pre>DecisionTreeRegressor(random_state=42)</pre><b>In a Jupyter environment, please rerun this cell to show the HTML representation or trust the notebook. <br />On GitHub, the HTML representation is unable to render, please try loading this page with nbviewer.org.</b></div><div class=\"sk-container\" hidden><div class=\"sk-item\"><div class=\"sk-estimator sk-toggleable\"><input class=\"sk-toggleable__control sk-hidden--visually\" id=\"sk-estimator-id-3\" type=\"checkbox\" checked><label for=\"sk-estimator-id-3\" class=\"sk-toggleable__label sk-toggleable__label-arrow\">DecisionTreeRegressor</label><div class=\"sk-toggleable__content\"><pre>DecisionTreeRegressor(random_state=42)</pre></div></div></div></div></div>"
            ],
            "text/plain": [
              "DecisionTreeRegressor(random_state=42)"
            ]
          },
          "execution_count": 104,
          "metadata": {},
          "output_type": "execute_result"
        }
      ],
      "source": [
        "from sklearn.tree import DecisionTreeRegressor\n",
        "\n",
        "tree_reg = DecisionTreeRegressor(random_state=42)\n",
        "tree_reg.fit(housing_prepared, housing_labels)"
      ]
    },
    {
      "cell_type": "code",
      "execution_count": 105,
      "metadata": {
        "colab": {
          "base_uri": "https://localhost:8080/"
        },
        "id": "ACSAKp20CVg1",
        "outputId": "77c41d8e-d56b-41a9-be0a-5c570a1c7c7f"
      },
      "outputs": [
        {
          "data": {
            "text/plain": [
              "0.0"
            ]
          },
          "execution_count": 105,
          "metadata": {},
          "output_type": "execute_result"
        }
      ],
      "source": [
        "housing_predictions = tree_reg.predict(housing_prepared)\n",
        "tree_mse = mean_squared_error(housing_labels, housing_predictions)\n",
        "tree_rmse = np.sqrt(tree_mse)\n",
        "tree_rmse"
      ]
    },
    {
      "cell_type": "markdown",
      "metadata": {
        "id": "kSY7_nfwCmp6"
      },
      "source": [
        "Having no error at this time, it is much more likely that **the model has badly overfit the data.**"
      ]
    },
    {
      "cell_type": "markdown",
      "metadata": {
        "id": "TSg2R5jzDD2G"
      },
      "source": [
        "# Better Evaluation Using Cross-Validation\n",
        "The following code randomly splits the training set into 10 distinct subsets called folds , then it trains and evaluates the Decision Tree model 10 times, picking a different fold for evaluation every time and training on the other 9 folds. The result is an array containing the 10 evaluation scores:"
      ]
    },
    {
      "cell_type": "code",
      "execution_count": 106,
      "metadata": {
        "id": "W_MhEwKEChQY"
      },
      "outputs": [],
      "source": [
        "from sklearn.model_selection import cross_val_score\n",
        "\n",
        "scores = cross_val_score(tree_reg, housing_prepared, housing_labels,\n",
        "                         scoring=\"neg_mean_squared_error\", cv=10)\n",
        "tree_rmse_scores = np.sqrt(-scores)"
      ]
    },
    {
      "cell_type": "markdown",
      "metadata": {
        "id": "uZ9gkl4eEoyj"
      },
      "source": [
        "**Warning**\n",
        "\n",
        "Scikit-Learn’s cross-validation features expect a utility function (greater is better) rather than a cost function (lower is better), so the scoring function is actually the opposite of the MSE (i.e., a negative value), which is why the preceding code computes -scores before calculating the square root."
      ]
    },
    {
      "cell_type": "code",
      "execution_count": 107,
      "metadata": {
        "colab": {
          "base_uri": "https://localhost:8080/"
        },
        "id": "IeQccotPEGRb",
        "outputId": "53dd932b-3121-4517-9058-bd3364f1792c"
      },
      "outputs": [
        {
          "name": "stdout",
          "output_type": "stream",
          "text": [
            "Scores: [72237.45096271 69208.53094621 69286.11573206 70612.13634405\n",
            " 70577.30202088 76840.97092314 71823.83279699 72710.22512908\n",
            " 67780.77127665 71678.17802175]\n",
            "Mean: 71275.55141535088\n",
            "Standard deviation: 2362.02756776275\n"
          ]
        }
      ],
      "source": [
        "def display_scores(scores):\n",
        "    print(\"Scores:\", scores)\n",
        "    print(\"Mean:\", scores.mean())\n",
        "    print(\"Standard deviation:\", scores.std())\n",
        "\n",
        "display_scores(tree_rmse_scores)"
      ]
    },
    {
      "cell_type": "markdown",
      "metadata": {
        "id": "31PkE1wnFvMF"
      },
      "source": [
        "Now the Decision Tree doesn’t look as good as it did earlier. In fact, it seems to perform worse than the Linear Regression model! Notice that cross-validation allows you to get not only an estimate of the performance of your model, but also a measure of how precise this estimate is (i.e., its standard deviation). The Decision Tree has a score of approximately 71,407, generally ±2,439. You would not have this information if you just used one validation set. But cross-validation comes at the cost of training the model several times, so it is not always possible."
      ]
    },
    {
      "cell_type": "code",
      "execution_count": 108,
      "metadata": {
        "colab": {
          "base_uri": "https://localhost:8080/"
        },
        "id": "YpayXjhwE49a",
        "outputId": "bf9ef22c-8afc-462a-ec62-37fa82a44189"
      },
      "outputs": [
        {
          "name": "stdout",
          "output_type": "stream",
          "text": [
            "Scores: [71523.78333874 64044.46774989 67454.97869698 68514.10137273\n",
            " 66303.62531226 72166.63405138 74464.08841381 68570.11804395\n",
            " 66063.64175868 69870.86192291]\n",
            "Mean: 68897.63006613276\n",
            "Standard deviation: 3002.746127534865\n"
          ]
        }
      ],
      "source": [
        "# Computing the same scores for the Linear Regression model\n",
        "lin_scores = cross_val_score(lin_reg, housing_prepared, housing_labels,\n",
        "                             scoring=\"neg_mean_squared_error\", cv=10)\n",
        "lin_rmse_scores = np.sqrt(-lin_scores)\n",
        "display_scores(lin_rmse_scores)"
      ]
    },
    {
      "cell_type": "markdown",
      "metadata": {
        "id": "hQacHHFoGOau"
      },
      "source": [
        "The Decision Tree model is overfitting so badly that it performs worse than the Linear Regression model."
      ]
    },
    {
      "cell_type": "markdown",
      "metadata": {
        "id": "r7MaJHREGbE0"
      },
      "source": [
        "## Train RandomForestRegressor\n",
        "Random Forests work by training many Decision Trees on random subsets of the features, then averaging out their predictions. Building a model on top of many other models is called **Ensemble Learning**, and it is often a great way to push ML algorithms even further."
      ]
    },
    {
      "cell_type": "code",
      "execution_count": 109,
      "metadata": {
        "colab": {
          "base_uri": "https://localhost:8080/",
          "height": 75
        },
        "id": "Ay0js-KzGJkz",
        "outputId": "fbf3072d-6fef-4dfb-e799-c106ee1abaf4"
      },
      "outputs": [
        {
          "data": {
            "text/html": [
              "<style>#sk-container-id-4 {color: black;background-color: white;}#sk-container-id-4 pre{padding: 0;}#sk-container-id-4 div.sk-toggleable {background-color: white;}#sk-container-id-4 label.sk-toggleable__label {cursor: pointer;display: block;width: 100%;margin-bottom: 0;padding: 0.3em;box-sizing: border-box;text-align: center;}#sk-container-id-4 label.sk-toggleable__label-arrow:before {content: \"▸\";float: left;margin-right: 0.25em;color: #696969;}#sk-container-id-4 label.sk-toggleable__label-arrow:hover:before {color: black;}#sk-container-id-4 div.sk-estimator:hover label.sk-toggleable__label-arrow:before {color: black;}#sk-container-id-4 div.sk-toggleable__content {max-height: 0;max-width: 0;overflow: hidden;text-align: left;background-color: #f0f8ff;}#sk-container-id-4 div.sk-toggleable__content pre {margin: 0.2em;color: black;border-radius: 0.25em;background-color: #f0f8ff;}#sk-container-id-4 input.sk-toggleable__control:checked~div.sk-toggleable__content {max-height: 200px;max-width: 100%;overflow: auto;}#sk-container-id-4 input.sk-toggleable__control:checked~label.sk-toggleable__label-arrow:before {content: \"▾\";}#sk-container-id-4 div.sk-estimator input.sk-toggleable__control:checked~label.sk-toggleable__label {background-color: #d4ebff;}#sk-container-id-4 div.sk-label input.sk-toggleable__control:checked~label.sk-toggleable__label {background-color: #d4ebff;}#sk-container-id-4 input.sk-hidden--visually {border: 0;clip: rect(1px 1px 1px 1px);clip: rect(1px, 1px, 1px, 1px);height: 1px;margin: -1px;overflow: hidden;padding: 0;position: absolute;width: 1px;}#sk-container-id-4 div.sk-estimator {font-family: monospace;background-color: #f0f8ff;border: 1px dotted black;border-radius: 0.25em;box-sizing: border-box;margin-bottom: 0.5em;}#sk-container-id-4 div.sk-estimator:hover {background-color: #d4ebff;}#sk-container-id-4 div.sk-parallel-item::after {content: \"\";width: 100%;border-bottom: 1px solid gray;flex-grow: 1;}#sk-container-id-4 div.sk-label:hover label.sk-toggleable__label {background-color: #d4ebff;}#sk-container-id-4 div.sk-serial::before {content: \"\";position: absolute;border-left: 1px solid gray;box-sizing: border-box;top: 0;bottom: 0;left: 50%;z-index: 0;}#sk-container-id-4 div.sk-serial {display: flex;flex-direction: column;align-items: center;background-color: white;padding-right: 0.2em;padding-left: 0.2em;position: relative;}#sk-container-id-4 div.sk-item {position: relative;z-index: 1;}#sk-container-id-4 div.sk-parallel {display: flex;align-items: stretch;justify-content: center;background-color: white;position: relative;}#sk-container-id-4 div.sk-item::before, #sk-container-id-4 div.sk-parallel-item::before {content: \"\";position: absolute;border-left: 1px solid gray;box-sizing: border-box;top: 0;bottom: 0;left: 50%;z-index: -1;}#sk-container-id-4 div.sk-parallel-item {display: flex;flex-direction: column;z-index: 1;position: relative;background-color: white;}#sk-container-id-4 div.sk-parallel-item:first-child::after {align-self: flex-end;width: 50%;}#sk-container-id-4 div.sk-parallel-item:last-child::after {align-self: flex-start;width: 50%;}#sk-container-id-4 div.sk-parallel-item:only-child::after {width: 0;}#sk-container-id-4 div.sk-dashed-wrapped {border: 1px dashed gray;margin: 0 0.4em 0.5em 0.4em;box-sizing: border-box;padding-bottom: 0.4em;background-color: white;}#sk-container-id-4 div.sk-label label {font-family: monospace;font-weight: bold;display: inline-block;line-height: 1.2em;}#sk-container-id-4 div.sk-label-container {text-align: center;}#sk-container-id-4 div.sk-container {/* jupyter's `normalize.less` sets `[hidden] { display: none; }` but bootstrap.min.css set `[hidden] { display: none !important; }` so we also need the `!important` here to be able to override the default hidden behavior on the sphinx rendered scikit-learn.org. See: https://github.com/scikit-learn/scikit-learn/issues/21755 */display: inline-block !important;position: relative;}#sk-container-id-4 div.sk-text-repr-fallback {display: none;}</style><div id=\"sk-container-id-4\" class=\"sk-top-container\"><div class=\"sk-text-repr-fallback\"><pre>RandomForestRegressor(random_state=42)</pre><b>In a Jupyter environment, please rerun this cell to show the HTML representation or trust the notebook. <br />On GitHub, the HTML representation is unable to render, please try loading this page with nbviewer.org.</b></div><div class=\"sk-container\" hidden><div class=\"sk-item\"><div class=\"sk-estimator sk-toggleable\"><input class=\"sk-toggleable__control sk-hidden--visually\" id=\"sk-estimator-id-4\" type=\"checkbox\" checked><label for=\"sk-estimator-id-4\" class=\"sk-toggleable__label sk-toggleable__label-arrow\">RandomForestRegressor</label><div class=\"sk-toggleable__content\"><pre>RandomForestRegressor(random_state=42)</pre></div></div></div></div></div>"
            ],
            "text/plain": [
              "RandomForestRegressor(random_state=42)"
            ]
          },
          "execution_count": 109,
          "metadata": {},
          "output_type": "execute_result"
        }
      ],
      "source": [
        "from sklearn.ensemble import RandomForestRegressor\n",
        "\n",
        "forest_reg = RandomForestRegressor(n_estimators=100, random_state=42)\n",
        "forest_reg.fit(housing_prepared, housing_labels)"
      ]
    },
    {
      "cell_type": "code",
      "execution_count": 110,
      "metadata": {
        "colab": {
          "base_uri": "https://localhost:8080/"
        },
        "id": "4jgJOVu1HOEp",
        "outputId": "dcc13cfa-0986-4f3b-d07d-b3a166571585"
      },
      "outputs": [
        {
          "data": {
            "text/plain": [
              "18675.224916252282"
            ]
          },
          "execution_count": 110,
          "metadata": {},
          "output_type": "execute_result"
        }
      ],
      "source": [
        "housing_predictions = forest_reg.predict(housing_prepared)\n",
        "forest_mse = mean_squared_error(housing_labels, housing_predictions)\n",
        "forest_rmse = np.sqrt(forest_mse)\n",
        "forest_rmse"
      ]
    },
    {
      "cell_type": "code",
      "execution_count": 111,
      "metadata": {
        "colab": {
          "base_uri": "https://localhost:8080/"
        },
        "id": "4aKcZTJ2HTPA",
        "outputId": "fba93096-1fbd-4c0a-d642-d5d6c1a47bd0"
      },
      "outputs": [
        {
          "name": "stdout",
          "output_type": "stream",
          "text": [
            "Scores: [51553.65292335 48797.89565614 47005.23947642 52046.73567245\n",
            " 47700.78025873 51824.08544879 52582.59165129 49949.79025967\n",
            " 48680.25622229 54019.67674791]\n",
            "Mean: 50416.070431704204\n",
            "Standard deviation: 2201.612779754884\n"
          ]
        }
      ],
      "source": [
        "from sklearn.model_selection import cross_val_score\n",
        "\n",
        "forest_scores = cross_val_score(forest_reg, housing_prepared, housing_labels,\n",
        "                                scoring=\"neg_mean_squared_error\", cv=10)\n",
        "forest_rmse_scores = np.sqrt(-forest_scores)\n",
        "display_scores(forest_rmse_scores)"
      ]
    },
    {
      "cell_type": "code",
      "execution_count": 112,
      "metadata": {
        "colab": {
          "base_uri": "https://localhost:8080/"
        },
        "id": "qcOWuu8CJbrP",
        "outputId": "01c66514-7508-44ea-8502-33a9ddf1aa9d"
      },
      "outputs": [
        {
          "data": {
            "text/plain": [
              "count       10.000000\n",
              "mean     68897.630066\n",
              "std       3165.172333\n",
              "min      64044.467750\n",
              "25%      66591.463658\n",
              "50%      68542.109708\n",
              "75%      71110.552985\n",
              "max      74464.088414\n",
              "dtype: float64"
            ]
          },
          "execution_count": 112,
          "metadata": {},
          "output_type": "execute_result"
        }
      ],
      "source": [
        "scores = cross_val_score(lin_reg, housing_prepared, housing_labels, scoring=\"neg_mean_squared_error\", cv=10)\n",
        "pd.Series(np.sqrt(-scores)).describe()"
      ]
    },
    {
      "cell_type": "markdown",
      "metadata": {
        "id": "gGgJ2wmkHtdO"
      },
      "source": [
        "Random Forests look very promising. However, note that the score on the training set is still much lower than on the validation sets, meaning that the model is still overfitting the training set. Possible solutions for overfitting are to simplify the model, constrain it (i.e., regularize it), or get a lot more training data.\n",
        "\n",
        "Before dive much deeper into Random Forest, you should try out many other models from various categories of ML algorithms. The goal is to shortlist a few (two to five) promising models."
      ]
    },
    {
      "cell_type": "markdown",
      "metadata": {
        "id": "XyOUmOrWH0eG"
      },
      "source": [
        "## Saving the models\n",
        "You should save every model you experiment with so that you can come back easily to any model you want. Is necessary to save:\n",
        "* Both the hyperparameters and the trained parameters.\n",
        "* The cross-validation scores.\n",
        "* Perhaps actual predictions as well.\n",
        "\n",
        "To save the models, the Python's `pickle` module or `joblib` library can be used, which is more efficient at serializing large NumPy arrays."
      ]
    },
    {
      "cell_type": "code",
      "execution_count": 115,
      "metadata": {
        "id": "jUD0L1IyHb_Q"
      },
      "outputs": [],
      "source": [
        "import joblib\n",
        "joblib.dump(forest_reg, \"my_model310.pkl\")\n",
        "# and later...\n",
        "my_model_loaded = joblib.load(\"my_model310.pkl\")"
      ]
    },
    {
      "cell_type": "code",
      "execution_count": 116,
      "metadata": {
        "colab": {
          "base_uri": "https://localhost:8080/"
        },
        "id": "7WOV_HkGXVjJ",
        "outputId": "1f37c4df-5c6a-466f-ba97-4add002b5d21"
      },
      "outputs": [
        {
          "name": "stdout",
          "output_type": "stream",
          "text": [
            "Predictions:\t [ 75446.   298423.01  82109.   ... 157926.   239522.    71491.  ]\n"
          ]
        }
      ],
      "source": [
        "print(\"Predictions:\\t\", my_model_loaded.predict(housing_prepared))"
      ]
    }
  ],
  "metadata": {
    "accelerator": "GPU",
    "colab": {
      "name": "02_end_to_end_machine_learning_project.ipynb",
      "provenance": []
    },
    "kernelspec": {
      "display_name": "Python 3",
      "name": "python3"
    },
    "language_info": {
      "codemirror_mode": {
        "name": "ipython",
        "version": 3
      },
      "file_extension": ".py",
      "mimetype": "text/x-python",
      "name": "python",
      "nbconvert_exporter": "python",
      "pygments_lexer": "ipython3",
      "version": "3.10.9"
    }
  },
  "nbformat": 4,
  "nbformat_minor": 0
}
